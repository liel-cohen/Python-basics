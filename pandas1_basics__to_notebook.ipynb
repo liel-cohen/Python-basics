{
  "cells": [
    {
      "cell_type": "code",
      "metadata": {},
      "source": [
        "import pandas as pd\n",
        "import numpy as np"
      ],
      "outputs": [],
      "execution_count": null
    },
    {
      "cell_type": "markdown",
      "metadata": {},
      "source": [
        "## Basic structure: Series \n",
        "A structure that is a single ordered column of named values:\n",
        " Row label + value "
      ]
    },
    {
      "cell_type": "markdown",
      "metadata": {},
      "source": [
        " ### Initialization \n",
        "'''\n",
        "# %%\n",
        "patient_reads = pd.Series([11.8, 10.1, 14.4, np.nan, 12.9], # could have used None as well\n",
        "                          index=['p1', 'p2', 'p3', 'p4', 'p5'])\n",
        "print(patient_reads)"
      ]
    },
    {
      "cell_type": "markdown",
      "metadata": {},
      "source": [
        " Get index labels\n",
        "'''\n",
        "# %%\n",
        "print(patient_reads.index)"
      ]
    },
    {
      "cell_type": "markdown",
      "metadata": {},
      "source": [
        "Get values\n",
        "'''\n",
        "# %%\n",
        "print(patient_reads.values)"
      ]
    },
    {
      "cell_type": "markdown",
      "metadata": {},
      "source": [
        "Define series name'''\n",
        "# %%\n",
        "patient_reads.name = 'Hemoglobin'\n",
        "print(patient_reads.name)"
      ]
    },
    {
      "cell_type": "markdown",
      "metadata": {},
      "source": [
        " We can also define name in initialization\n",
        " (helpful if we want to add / transform series to dataframe) '''\n",
        "# %%\n",
        "patient_reads = pd.Series([11.8, 10.1, 14.4, np.nan, 12.9],\n",
        "                          index=['p1', 'p2', 'p3', 'p4', 'p5'],\n",
        "                          name='Hemoglobin')"
      ]
    },
    {
      "cell_type": "markdown",
      "metadata": {},
      "source": [
        " What if we don't define an index?'''\n",
        "# %%\n",
        "reads_no_ind = pd.Series([11.8, 10.1, 14.4, np.nan, 12.9])\n",
        "print(reads_no_ind.index) # now index label = position\n",
        "print(list(reads_no_ind.index))"
      ]
    },
    {
      "cell_type": "markdown",
      "metadata": {},
      "source": [
        " Initialization from dict'''\n",
        "# %%\n",
        "patient_reads_extra = pd.Series({'p6': 13.2, 'p7': 15.3, 'p8': np.nan})\n",
        "print(patient_reads_extra)"
      ]
    },
    {
      "cell_type": "markdown",
      "metadata": {},
      "source": [
        " Append'''\n",
        "# %%\n",
        "all_reads = patient_reads.append(patient_reads_extra)\n",
        "print(all_reads)"
      ]
    },
    {
      "cell_type": "markdown",
      "metadata": {},
      "source": [
        " ### Get specific items - slicing ''' # <editor-fold>\n",
        "# %%\n",
        "''' by integer location (what we are used to call 'index' in a list) '''\n",
        "# %%\n",
        "print(patient_reads.iloc[0])\n",
        "print(patient_reads.iloc[2:4])"
      ]
    },
    {
      "cell_type": "markdown",
      "metadata": {},
      "source": [
        " by label (i.e. pandas index)'''\n",
        "# %%\n",
        "print(patient_reads.loc['p1'])\n",
        "print(patient_reads.loc['p1':'p3'])\n",
        "print(patient_reads.loc[['p1', 'p4', 'p5']])\n",
        "\n",
        "# # another way that is not implicit -\n",
        "# print(patient_reads['p1'])\n",
        "# print(patient_reads[0]) # first checks if label 0 exists.\n",
        "#                         # if not, looks for item in integer position 0.\n",
        "#                         # So it's better not to use this way\n",
        "#                         # with ints if you have ints as indexes.\n",
        "#                         # it can create a mixup.\n",
        "#                         # (Unless index = position as in next example.)"
      ]
    },
    {
      "cell_type": "markdown",
      "metadata": {},
      "source": [
        " ### Dealing with NaNs (NaN = not a value) ''' # <editor-fold>\n",
        "# %%\n",
        "all_reads_na = all_reads.isna() # same as .isnull().  # opposite of .notna() / .notnull()\n",
        "print(all_reads_na)"
      ]
    },
    {
      "cell_type": "markdown",
      "metadata": {},
      "source": [
        " Drop NANs'''\n",
        "# %%\n",
        "all_reads_no_na = all_reads.dropna(inplace=False)\n",
        "# inplace = False - function returns a changed object, without changing the original.\n",
        "# inplace = True - function changes the object itself, and returns None"
      ]
    },
    {
      "cell_type": "markdown",
      "metadata": {},
      "source": [
        " Fill NANs with a value'''\n",
        "# %%\n",
        "all_reads.fillna(-1000)"
      ]
    },
    {
      "cell_type": "markdown",
      "metadata": {},
      "source": [
        " ### Slicing by condition - boolean ''' # <editor-fold>\n",
        "# %%\n",
        "over_13_ind = all_reads > 13 # get boolean for each row according to condition\n",
        "print(over_13_ind)"
      ]
    },
    {
      "cell_type": "code",
      "metadata": {},
      "source": [
        "print(all_reads[over_13_ind]) # use booleans to get a subset of the data"
      ],
      "outputs": [],
      "execution_count": null
    },
    {
      "cell_type": "code",
      "metadata": {},
      "source": [
        "print(~over_13_ind) # ~ = not\n",
        "print(all_reads[~over_13_ind])"
      ],
      "outputs": [],
      "execution_count": null
    },
    {
      "cell_type": "markdown",
      "metadata": {},
      "source": [
        " ### Some more functions ''' # <editor-fold>\n",
        "# %%\n",
        "print(all_reads.to_dict())\n",
        "# %%\n",
        "print(all_reads.sum())\n",
        "# %%\n",
        "print(all_reads.mean())\n",
        "# %%\n",
        "print(all_reads.min())\n",
        "# %%\n",
        "print(all_reads.max())\n",
        "# %%\n",
        "print(all_reads.median())"
      ]
    },
    {
      "cell_type": "markdown",
      "metadata": {},
      "source": [
        " mean of subset of the data'''\n",
        "# %%\n",
        "print(all_reads[over_13_ind].mean())"
      ]
    },
    {
      "cell_type": "markdown",
      "metadata": {},
      "source": [
        " ### Numpy or other functions '''\n",
        "# %%\n",
        "all_reads_sqrt = np.sqrt(all_reads)"
      ]
    },
    {
      "cell_type": "markdown",
      "metadata": {},
      "source": [
        " numpy functions support pd.Series. If they weren't, this would work: '''\n",
        "# %%\n",
        "all_reads_sqrt = all_reads.apply(np.sqrt)"
      ]
    },
    {
      "cell_type": "code",
      "metadata": {},
      "source": [
        "all_reads_calc = all_reads - all_reads.mean()\n"
      ],
      "outputs": [],
      "execution_count": null
    },
    {
      "cell_type": "markdown",
      "metadata": {},
      "source": [
        " more in the API documentation:\n",
        " https://pandas.pydata.org/pandas-docs/stable/reference/api/pandas.Series.html "
      ]
    },
    {
      "cell_type": "markdown",
      "metadata": {},
      "source": [
        " ## DataFrame \n",
        "\n",
        " A collection of multiple pd.Series that share an index -\n",
        " a 2-dimensional tabular structure"
      ]
    },
    {
      "cell_type": "markdown",
      "metadata": {},
      "source": [
        " Initialization ''' # <editor-fold>\n",
        "# %%\n",
        "df = pd.DataFrame({'Hgb': [13.2, 10.1, 14.4, 11.8, 12.9],\n",
        "                   'Age': [44, 25, 14, 33, 39],\n",
        "                   'Gender': ['M', 'F', 'M', 'M', 'F']},\n",
        "                  index=['p1', 'p2', 'p3', 'p4', 'p5'])\n",
        "print(df)\n",
        "# %%\n",
        "print(df.index)\n",
        "# %%\n",
        "print(df.columns)"
      ]
    },
    {
      "cell_type": "markdown",
      "metadata": {},
      "source": [
        " another option (and there are more...)'''\n",
        "# %%\n",
        "examp_data = [[13.2, 44, 'M'],\n",
        "              [10.1, 25, 'F'],\n",
        "              [14.4, 14, 'M'],\n",
        "              [11.8, 33, 'M'],\n",
        "              [12.9, 39, 'F']]\n",
        "\n",
        "df = pd.DataFrame(examp_data,\n",
        "                  index=['p1', 'p2', 'p3', 'p4', 'p5'],\n",
        "                  columns=['Hgb', 'Age', 'Gender'])"
      ]
    },
    {
      "cell_type": "markdown",
      "metadata": {},
      "source": [
        " ### Dataframe dimensions '''\n",
        "# %%\n",
        "print(df.shape)"
      ]
    },
    {
      "cell_type": "markdown",
      "metadata": {},
      "source": [
        " How can we get the number of rows?'''\n",
        "# %%\n",
        "print(df.shape)"
      ]
    },
    {
      "cell_type": "markdown",
      "metadata": {},
      "source": [
        " And the number of columns?'''\n",
        "# %%\n",
        "print(df.shape)\n",
        "\n",
        "\n",
        "''' Slicing ''' # <editor-fold>\n",
        "\n",
        "# Slicing columns\n",
        "df_age = df['Age'] # slice entire column\n",
        "print(type(df_age)) # single column = pd.Series!\n",
        "\n",
        "# print(patient_df['Age', 'Hgb'])\n",
        "print(df[['Age', 'Hgb']]) # for multiple columns, use names list\n",
        "print(type(df[['Age', 'Hgb']]))\n",
        "\n",
        "# Slicing rows - data[start:stop]\n",
        "print(df[0:2]) # only works with int - row position\n",
        "# It's better not to use this, may be confusing.\n",
        "\n",
        "# Like in series:\n",
        "# iloc - get by row position\n",
        "# loc - get by row label\n",
        "\n",
        "print(df.iloc[0, 1]) # int\n",
        "print(df.iloc[0:3, 0:2]) # int\n",
        "\n",
        "print(df.loc['p1', 'Age']) # label\n",
        "print(df.loc[['p1', 'p4'], ['Hgb', 'Gender']]) # label\n",
        "print(df.loc['p1':'p4', 'Age':]) # label   # same as patient_df.loc['p1':'p4']\n",
        "\n",
        "# </editor-fold>\n",
        "\n",
        "''' Replace values ''' # <editor-fold>\n",
        "df.iloc[0, 1] = 888\n",
        "df.iloc[0:2, 1] = [99, 100]\n",
        "df.loc['p2', ['Gender', 'Hgb']] = ['Unknown', 1.11111]\n",
        "\n",
        "# With .loc/.iloc, you will modify the original\n",
        "# DataFrame and not a copy of it...\n",
        "\n",
        "# </editor-fold>\n",
        "\n",
        "''' View vs. Copy ''' # <editor-fold>\n",
        "df_age = df['Age']\n",
        "\n",
        "df_age.loc['p1'] = 5000\n",
        "# SettingWithCopyWarning warning! why?\n",
        "\n",
        "\n",
        "df_age2 = df['Age'].copy()\n",
        "\n",
        "df_age2.loc['p2'] = 10000 # Now the original won't change\n",
        "\n",
        "# Back to changing values -\n",
        "\n",
        "# Chaining:\n",
        "print(df[['Hgb', 'Age']][0:1]) # get df with 'Hgb' and 'Age', then get value of row 0\n",
        "\n",
        "\n",
        "'''\n",
        "Value assignment to an existing pd.DataFrame:\n",
        "Assigning to the product of chained indexing has\n",
        "inherently unpredictable results. \n",
        "Chained indexing sometimes creates a copy, and sometimes\n",
        "just creates a view (like a pointer to the original DataFrame). \n",
        "When selecting a single column from a DataFrame, \n",
        "it creates a view and not a copy.\n",
        "But the rules for this are a bit ambiguous (see link 1 which contains an explanation from one of Pandas writers)\n",
        "To make an assignment, it's better not to use chained indexing.\n",
        "Use .loc in a single call.\n",
        "\n",
        "More on that:\n",
        "https://stackoverflow.com/questions/23296282/what-rules-does-pandas-use-to-generate-a-view-vs-a-copy\n",
        "https://medium.com/dunder-data/selecting-subsets-of-data-in-pandas-part-4-c4216f84d388\n",
        "'''\n",
        "\n",
        "# Don't use chaining to modify values!\n",
        "# Usually chaining returns a copy so the original\n",
        "# will not change. (SettingWithCopyWarning warning: https://realpython.com/pandas-settingwithcopywarning/)\n",
        "# Use .loc/.iloc\n",
        "\n",
        "df[df['Hgb'] > 10]['Age'] = 99 # Don't do this!!! or similar to this\n",
        "\n",
        "\n",
        "# </editor-fold>\n",
        "\n",
        "''' Manipulating index ''' # <editor-fold>\n",
        "\n",
        "df.index[2]\n",
        "# what if I want to change the row label?\n",
        "# df.index[2] = 'p20' # won't work\n",
        "df.rename(index={'p3': 'p20'}, inplace=True)\n",
        "print(df)\n",
        "\n",
        "print(df.set_index('Hgb')) # make column values into index. notice that default for inplace is False\n",
        "print(df)\n",
        "\n",
        "df.index = [1, 2, 3, 4, 5] # change all indices\n",
        "print(df)\n",
        "\n",
        "df.index = 'p' + df.index.astype(str) # back to original       can also do .to_series()\n",
        "print(df)\n",
        "\n",
        "# </editor-fold>\n",
        "\n",
        "''' Drop ''' # <editor-fold>\n",
        "\n",
        "df.drop(['p3'], inplace=False) # default - drops row\n",
        "# df.drop(['Gender'], inplace=True) # Why won't it work?\n",
        "\n",
        "# write explicitly - index / columns\n",
        "df.drop(index=['p2'], inplace=False)\n",
        "df.drop(columns=['Gender'], inplace=False)\n",
        "print(df)\n",
        "\n",
        "# </editor-fold>\n",
        "\n",
        "''' Simple calculations ''' # <editor-fold>\n",
        "\n",
        "df['Hgb+100'] = df['Hgb'] + 100\n",
        "print(df)\n",
        "\n",
        "df['Hgb-adjusted'] = df['Hgb'] - df['Hgb'].min()\n",
        "print(df)\n",
        "\n",
        "df['Hgb*Age'] = df['Hgb'] * df['Age']\n",
        "print(df)\n",
        "\n",
        "# </editor-fold>\n",
        "\n",
        "''' Value counts ''' # <editor-fold>\n",
        "\n",
        "df_gender_count = df['Gender'].value_counts()\n",
        "print(df_gender_count)\n",
        "\n",
        "# </editor-fold>\n",
        "\n",
        "''' Functions ''' # <editor-fold>\n",
        "\n",
        "print(df.sum())\n",
        "\n",
        "print(df.sum(axis=1))\n",
        "\n",
        "df_log = np.log(df[['Age', 'Hgb']]) # numpy functions - can execute over entire column\n",
        "\n",
        "# More on example 2\n",
        "\n",
        "# </editor-fold>\n",
        "\n",
        "''' Add single row ''' # <editor-fold>\n",
        "\n",
        "df_log.loc['p10'] = [1.5 ,2]\n",
        "df_log.loc['p11'] = {'Age': 4,'Hgb': 5}\n",
        "print(df_log)\n",
        "\n",
        "# </editor-fold>\n",
        "\n",
        "''' Sort by column ''' # <editor-fold>\n",
        "\n",
        "df.sort_values(by='Age', ascending=False, inplace=True)\n",
        "\n",
        "# </editor-fold>\n",
        "\n",
        "''' Join ''' # <editor-fold>\n",
        "\n",
        "# I'd like to add the 'Gender' column from df to df_log.\n",
        "df_log = df_log.join(df['Gender'])\n",
        "# fix nans?\n",
        "\n",
        "# Now I'd like to add the log 'Hgb' from df_log to df.\n",
        "df = df.join(df_log['Hgb'])\n",
        "\n",
        "df2 = df.join(df_log, rsuffix='_log', how='outer')\n",
        "\n",
        "# </editor-fold>\n",
        "\n",
        "# </editor-fold> # pd.Dataframe fold"
      ]
    }
  ],
  "metadata": {
    "anaconda-cloud": {},
    "kernelspec": {
      "display_name": "Python 3",
      "language": "python",
      "name": "python3"
    },
    "language_info": {
      "codemirror_mode": {
        "name": "ipython",
        "version": 3
      },
      "file_extension": ".py",
      "mimetype": "text/x-python",
      "name": "python",
      "nbconvert_exporter": "python",
      "pygments_lexer": "ipython3",
      "version": "3.6.1"
    }
  },
  "nbformat": 4,
  "nbformat_minor": 4
}