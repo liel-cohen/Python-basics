{
 "cells": [
  {
   "cell_type": "markdown",
   "metadata": {},
   "source": [
    "# <span style=\"color:#ff884d\">Pandas Exercise - Full Solution</span>\n"
   ]
  },
  {
   "cell_type": "code",
   "execution_count": 27,
   "metadata": {},
   "outputs": [],
   "source": [
    "import pandas as pd\n",
    "import numpy as np"
   ]
  },
  {
   "cell_type": "markdown",
   "metadata": {},
   "source": [
    "<b> 1. Import from an excel file.\n",
    "First, define the <span style=\"color:blue\">path</span> of the folder where the file is stored. </b>\n",
    "<br>Or, if the file is placed at the same folder as code, you can ommit the full path and just use the file name: <br>\n",
    "df = pd.read_excel('ex11_FLU09_data.xlsx', ...)"
   ]
  },
  {
   "cell_type": "code",
   "execution_count": 28,
   "metadata": {},
   "outputs": [],
   "source": [
    "path = 'C:/Users/liel-/Dropbox/PyCharm/PycharmProjectsNew/Python-classes/'\n",
    "\n",
    "df = pd.read_excel(path + 'example_data_FLU09.xlsx',\n",
    "                   sheet_name='FLU09 plasma',\n",
    "                   index_col='ID')\n",
    "\n",
    "# from csv - pd.read_csv(...)\n",
    "# from tsv - pd.read_csv(..., delimiter='\\t')"
   ]
  },
  {
   "cell_type": "markdown",
   "metadata": {},
   "source": [
    "<b>2. Lets view our dataframe</b>"
   ]
  },
  {
   "cell_type": "code",
   "execution_count": 29,
   "metadata": {},
   "outputs": [
    {
     "data": {
      "text/html": [
       "<div>\n",
       "<style scoped>\n",
       "    .dataframe tbody tr th:only-of-type {\n",
       "        vertical-align: middle;\n",
       "    }\n",
       "\n",
       "    .dataframe tbody tr th {\n",
       "        vertical-align: top;\n",
       "    }\n",
       "\n",
       "    .dataframe thead th {\n",
       "        text-align: right;\n",
       "    }\n",
       "</style>\n",
       "<table border=\"1\" class=\"dataframe\">\n",
       "  <thead>\n",
       "    <tr style=\"text-align: right;\">\n",
       "      <th></th>\n",
       "      <th>Age_months</th>\n",
       "      <th>Gender</th>\n",
       "      <th>Influenza_test_result_positive</th>\n",
       "      <th>EGF</th>\n",
       "      <th>FKN</th>\n",
       "      <th>GRO</th>\n",
       "      <th>IFNγ</th>\n",
       "      <th>IL1α</th>\n",
       "      <th>IL2</th>\n",
       "      <th>IL4</th>\n",
       "      <th>...</th>\n",
       "      <th>IL9</th>\n",
       "      <th>IL10</th>\n",
       "      <th>IP10</th>\n",
       "      <th>MCP1</th>\n",
       "      <th>MCP3</th>\n",
       "      <th>MDC</th>\n",
       "      <th>MIP1α</th>\n",
       "      <th>TGFα</th>\n",
       "      <th>TNFα</th>\n",
       "      <th>TNFβ</th>\n",
       "    </tr>\n",
       "    <tr>\n",
       "      <th>ID</th>\n",
       "      <th></th>\n",
       "      <th></th>\n",
       "      <th></th>\n",
       "      <th></th>\n",
       "      <th></th>\n",
       "      <th></th>\n",
       "      <th></th>\n",
       "      <th></th>\n",
       "      <th></th>\n",
       "      <th></th>\n",
       "      <th></th>\n",
       "      <th></th>\n",
       "      <th></th>\n",
       "      <th></th>\n",
       "      <th></th>\n",
       "      <th></th>\n",
       "      <th></th>\n",
       "      <th></th>\n",
       "      <th></th>\n",
       "      <th></th>\n",
       "      <th></th>\n",
       "    </tr>\n",
       "  </thead>\n",
       "  <tbody>\n",
       "    <tr>\n",
       "      <th>3200</th>\n",
       "      <td>180.903360</td>\n",
       "      <td>Female</td>\n",
       "      <td>False</td>\n",
       "      <td>5.24</td>\n",
       "      <td>20.86</td>\n",
       "      <td>98.41</td>\n",
       "      <td>9.97</td>\n",
       "      <td>2.24</td>\n",
       "      <td>0.95</td>\n",
       "      <td>1.86</td>\n",
       "      <td>...</td>\n",
       "      <td>3.04</td>\n",
       "      <td>2.53</td>\n",
       "      <td>539.44</td>\n",
       "      <td>199.33</td>\n",
       "      <td>9.66</td>\n",
       "      <td>775.28</td>\n",
       "      <td>3.01</td>\n",
       "      <td>1.39</td>\n",
       "      <td>15.25</td>\n",
       "      <td>2.09</td>\n",
       "    </tr>\n",
       "    <tr>\n",
       "      <th>3201</th>\n",
       "      <td>18.033333</td>\n",
       "      <td>Male</td>\n",
       "      <td>True</td>\n",
       "      <td>NaN</td>\n",
       "      <td>NaN</td>\n",
       "      <td>NaN</td>\n",
       "      <td>NaN</td>\n",
       "      <td>NaN</td>\n",
       "      <td>NaN</td>\n",
       "      <td>NaN</td>\n",
       "      <td>...</td>\n",
       "      <td>NaN</td>\n",
       "      <td>NaN</td>\n",
       "      <td>NaN</td>\n",
       "      <td>NaN</td>\n",
       "      <td>NaN</td>\n",
       "      <td>NaN</td>\n",
       "      <td>NaN</td>\n",
       "      <td>NaN</td>\n",
       "      <td>NaN</td>\n",
       "      <td>NaN</td>\n",
       "    </tr>\n",
       "    <tr>\n",
       "      <th>3202</th>\n",
       "      <td>44.933333</td>\n",
       "      <td>Male</td>\n",
       "      <td>True</td>\n",
       "      <td>179.16</td>\n",
       "      <td>49.11</td>\n",
       "      <td>1019.90</td>\n",
       "      <td>8.36</td>\n",
       "      <td>17.34</td>\n",
       "      <td>1.49</td>\n",
       "      <td>1.94</td>\n",
       "      <td>...</td>\n",
       "      <td>2.26</td>\n",
       "      <td>31.87</td>\n",
       "      <td>3560.13</td>\n",
       "      <td>2737.32</td>\n",
       "      <td>67.07</td>\n",
       "      <td>1158.00</td>\n",
       "      <td>171.51</td>\n",
       "      <td>3.61</td>\n",
       "      <td>15.93</td>\n",
       "      <td>1.61</td>\n",
       "    </tr>\n",
       "    <tr>\n",
       "      <th>3203</th>\n",
       "      <td>156.633333</td>\n",
       "      <td>Female</td>\n",
       "      <td>False</td>\n",
       "      <td>NaN</td>\n",
       "      <td>NaN</td>\n",
       "      <td>NaN</td>\n",
       "      <td>NaN</td>\n",
       "      <td>NaN</td>\n",
       "      <td>NaN</td>\n",
       "      <td>NaN</td>\n",
       "      <td>...</td>\n",
       "      <td>NaN</td>\n",
       "      <td>NaN</td>\n",
       "      <td>NaN</td>\n",
       "      <td>NaN</td>\n",
       "      <td>NaN</td>\n",
       "      <td>NaN</td>\n",
       "      <td>NaN</td>\n",
       "      <td>NaN</td>\n",
       "      <td>NaN</td>\n",
       "      <td>NaN</td>\n",
       "    </tr>\n",
       "    <tr>\n",
       "      <th>3204</th>\n",
       "      <td>79.600000</td>\n",
       "      <td>Female</td>\n",
       "      <td>False</td>\n",
       "      <td>191.72</td>\n",
       "      <td>33.36</td>\n",
       "      <td>2038.28</td>\n",
       "      <td>7.36</td>\n",
       "      <td>0.13</td>\n",
       "      <td>0.45</td>\n",
       "      <td>2.53</td>\n",
       "      <td>...</td>\n",
       "      <td>0.33</td>\n",
       "      <td>0.09</td>\n",
       "      <td>225.61</td>\n",
       "      <td>159.52</td>\n",
       "      <td>6.66</td>\n",
       "      <td>1867.52</td>\n",
       "      <td>8.43</td>\n",
       "      <td>2.36</td>\n",
       "      <td>4.91</td>\n",
       "      <td>0.53</td>\n",
       "    </tr>\n",
       "  </tbody>\n",
       "</table>\n",
       "<p>5 rows × 23 columns</p>\n",
       "</div>"
      ],
      "text/plain": [
       "      Age_months  Gender  Influenza_test_result_positive     EGF    FKN  \\\n",
       "ID                                                                        \n",
       "3200  180.903360  Female                           False    5.24  20.86   \n",
       "3201   18.033333    Male                            True     NaN    NaN   \n",
       "3202   44.933333    Male                            True  179.16  49.11   \n",
       "3203  156.633333  Female                           False     NaN    NaN   \n",
       "3204   79.600000  Female                           False  191.72  33.36   \n",
       "\n",
       "          GRO  IFNγ   IL1α   IL2   IL4  ...    IL9   IL10     IP10     MCP1  \\\n",
       "ID                                      ...                                   \n",
       "3200    98.41  9.97   2.24  0.95  1.86  ...   3.04   2.53   539.44   199.33   \n",
       "3201      NaN   NaN    NaN   NaN   NaN  ...    NaN    NaN      NaN      NaN   \n",
       "3202  1019.90  8.36  17.34  1.49  1.94  ...   2.26  31.87  3560.13  2737.32   \n",
       "3203      NaN   NaN    NaN   NaN   NaN  ...    NaN    NaN      NaN      NaN   \n",
       "3204  2038.28  7.36   0.13  0.45  2.53  ...   0.33   0.09   225.61   159.52   \n",
       "\n",
       "       MCP3      MDC   MIP1α  TGFα   TNFα  TNFβ  \n",
       "ID                                               \n",
       "3200   9.66   775.28    3.01  1.39  15.25  2.09  \n",
       "3201    NaN      NaN     NaN   NaN    NaN   NaN  \n",
       "3202  67.07  1158.00  171.51  3.61  15.93  1.61  \n",
       "3203    NaN      NaN     NaN   NaN    NaN   NaN  \n",
       "3204   6.66  1867.52    8.43  2.36   4.91  0.53  \n",
       "\n",
       "[5 rows x 23 columns]"
      ]
     },
     "execution_count": 29,
     "metadata": {},
     "output_type": "execute_result"
    }
   ],
   "source": [
    "df.head()"
   ]
  },
  {
   "cell_type": "markdown",
   "metadata": {},
   "source": [
    "What columns does it have?"
   ]
  },
  {
   "cell_type": "code",
   "execution_count": 30,
   "metadata": {},
   "outputs": [
    {
     "data": {
      "text/plain": [
       "Index(['Age_months', 'Gender', 'Influenza_test_result_positive', 'EGF', 'FKN',\n",
       "       'GRO', 'IFNγ', 'IL1α', 'IL2', 'IL4', 'IL5', 'IL6', 'IL8', 'IL9', 'IL10',\n",
       "       'IP10', 'MCP1', 'MCP3', 'MDC', 'MIP1α', 'TGFα', 'TNFα', 'TNFβ'],\n",
       "      dtype='object')"
      ]
     },
     "execution_count": 30,
     "metadata": {},
     "output_type": "execute_result"
    }
   ],
   "source": [
    "df.columns"
   ]
  },
  {
   "cell_type": "markdown",
   "metadata": {},
   "source": [
    "<b>3. Are the df indices unique?</b> <span style=\"color:#ff884d\">(instructor example)</span>"
   ]
  },
  {
   "cell_type": "code",
   "execution_count": 31,
   "metadata": {},
   "outputs": [
    {
     "data": {
      "text/plain": [
       "True"
      ]
     },
     "execution_count": 31,
     "metadata": {},
     "output_type": "execute_result"
    }
   ],
   "source": [
    "df.index.is_unique"
   ]
  },
  {
   "cell_type": "markdown",
   "metadata": {},
   "source": [
    "<b>4. How many subjects are there?</b>"
   ]
  },
  {
   "cell_type": "code",
   "execution_count": 32,
   "metadata": {},
   "outputs": [
    {
     "data": {
      "text/plain": [
       "308"
      ]
     },
     "execution_count": 32,
     "metadata": {},
     "output_type": "execute_result"
    }
   ],
   "source": [
    "df.shape[0]"
   ]
  },
  {
   "cell_type": "markdown",
   "metadata": {},
   "source": [
    " <b><span style=\"color:purple\">We were told we are</span> <span style=\"color:red\">not</span> <span style=\"color:purple\"> allowed to use data of subjects 3200, 3388!</span>\n",
    "<br><br>5. First, let's view the relevant rows. </b>"
   ]
  },
  {
   "cell_type": "code",
   "execution_count": 33,
   "metadata": {},
   "outputs": [
    {
     "data": {
      "text/html": [
       "<div>\n",
       "<style scoped>\n",
       "    .dataframe tbody tr th:only-of-type {\n",
       "        vertical-align: middle;\n",
       "    }\n",
       "\n",
       "    .dataframe tbody tr th {\n",
       "        vertical-align: top;\n",
       "    }\n",
       "\n",
       "    .dataframe thead th {\n",
       "        text-align: right;\n",
       "    }\n",
       "</style>\n",
       "<table border=\"1\" class=\"dataframe\">\n",
       "  <thead>\n",
       "    <tr style=\"text-align: right;\">\n",
       "      <th></th>\n",
       "      <th>Age_months</th>\n",
       "      <th>Gender</th>\n",
       "      <th>Influenza_test_result_positive</th>\n",
       "      <th>EGF</th>\n",
       "      <th>FKN</th>\n",
       "      <th>GRO</th>\n",
       "      <th>IFNγ</th>\n",
       "      <th>IL1α</th>\n",
       "      <th>IL2</th>\n",
       "      <th>IL4</th>\n",
       "      <th>...</th>\n",
       "      <th>IL9</th>\n",
       "      <th>IL10</th>\n",
       "      <th>IP10</th>\n",
       "      <th>MCP1</th>\n",
       "      <th>MCP3</th>\n",
       "      <th>MDC</th>\n",
       "      <th>MIP1α</th>\n",
       "      <th>TGFα</th>\n",
       "      <th>TNFα</th>\n",
       "      <th>TNFβ</th>\n",
       "    </tr>\n",
       "    <tr>\n",
       "      <th>ID</th>\n",
       "      <th></th>\n",
       "      <th></th>\n",
       "      <th></th>\n",
       "      <th></th>\n",
       "      <th></th>\n",
       "      <th></th>\n",
       "      <th></th>\n",
       "      <th></th>\n",
       "      <th></th>\n",
       "      <th></th>\n",
       "      <th></th>\n",
       "      <th></th>\n",
       "      <th></th>\n",
       "      <th></th>\n",
       "      <th></th>\n",
       "      <th></th>\n",
       "      <th></th>\n",
       "      <th></th>\n",
       "      <th></th>\n",
       "      <th></th>\n",
       "      <th></th>\n",
       "    </tr>\n",
       "  </thead>\n",
       "  <tbody>\n",
       "    <tr>\n",
       "      <th>3200</th>\n",
       "      <td>180.903360</td>\n",
       "      <td>Female</td>\n",
       "      <td>False</td>\n",
       "      <td>5.24</td>\n",
       "      <td>20.86</td>\n",
       "      <td>98.41</td>\n",
       "      <td>9.97</td>\n",
       "      <td>2.24</td>\n",
       "      <td>0.95</td>\n",
       "      <td>1.86</td>\n",
       "      <td>...</td>\n",
       "      <td>3.04</td>\n",
       "      <td>2.53</td>\n",
       "      <td>539.44</td>\n",
       "      <td>199.33</td>\n",
       "      <td>9.66</td>\n",
       "      <td>775.28</td>\n",
       "      <td>3.01</td>\n",
       "      <td>1.39</td>\n",
       "      <td>15.25</td>\n",
       "      <td>2.09</td>\n",
       "    </tr>\n",
       "    <tr>\n",
       "      <th>3388</th>\n",
       "      <td>347.433333</td>\n",
       "      <td>Male</td>\n",
       "      <td>False</td>\n",
       "      <td>2.94</td>\n",
       "      <td>3.27</td>\n",
       "      <td>2.50</td>\n",
       "      <td>17.49</td>\n",
       "      <td>1.52</td>\n",
       "      <td>1.25</td>\n",
       "      <td>1.94</td>\n",
       "      <td>...</td>\n",
       "      <td>2.26</td>\n",
       "      <td>1.02</td>\n",
       "      <td>52.08</td>\n",
       "      <td>145.63</td>\n",
       "      <td>3.23</td>\n",
       "      <td>868.51</td>\n",
       "      <td>2.66</td>\n",
       "      <td>0.39</td>\n",
       "      <td>0.88</td>\n",
       "      <td>1.61</td>\n",
       "    </tr>\n",
       "  </tbody>\n",
       "</table>\n",
       "<p>2 rows × 23 columns</p>\n",
       "</div>"
      ],
      "text/plain": [
       "      Age_months  Gender  Influenza_test_result_positive   EGF    FKN    GRO  \\\n",
       "ID                                                                             \n",
       "3200  180.903360  Female                           False  5.24  20.86  98.41   \n",
       "3388  347.433333    Male                           False  2.94   3.27   2.50   \n",
       "\n",
       "       IFNγ  IL1α   IL2   IL4  ...    IL9  IL10    IP10    MCP1  MCP3     MDC  \\\n",
       "ID                             ...                                              \n",
       "3200   9.97  2.24  0.95  1.86  ...   3.04  2.53  539.44  199.33  9.66  775.28   \n",
       "3388  17.49  1.52  1.25  1.94  ...   2.26  1.02   52.08  145.63  3.23  868.51   \n",
       "\n",
       "      MIP1α  TGFα   TNFα  TNFβ  \n",
       "ID                              \n",
       "3200   3.01  1.39  15.25  2.09  \n",
       "3388   2.66  0.39   0.88  1.61  \n",
       "\n",
       "[2 rows x 23 columns]"
      ]
     },
     "execution_count": 33,
     "metadata": {},
     "output_type": "execute_result"
    }
   ],
   "source": [
    "df.loc[[3200,3388]]  # or df.loc[[3200,3388], :]"
   ]
  },
  {
   "cell_type": "markdown",
   "metadata": {},
   "source": [
    " <b>6. Now, let's delete them </b>"
   ]
  },
  {
   "cell_type": "code",
   "execution_count": 34,
   "metadata": {},
   "outputs": [],
   "source": [
    "df.drop(index=[3200, 3388], inplace=True)"
   ]
  },
  {
   "cell_type": "markdown",
   "metadata": {},
   "source": [
    "Make sure they were properly deleted. How? (try at least 2 ways!)"
   ]
  },
  {
   "cell_type": "code",
   "execution_count": 35,
   "metadata": {},
   "outputs": [
    {
     "name": "stdout",
     "output_type": "stream",
     "text": [
      "306\n"
     ]
    }
   ],
   "source": [
    "print(df.shape[0])"
   ]
  },
  {
   "cell_type": "code",
   "execution_count": 36,
   "metadata": {},
   "outputs": [
    {
     "name": "stdout",
     "output_type": "stream",
     "text": [
      "True\n",
      "False\n",
      "False\n"
     ]
    }
   ],
   "source": [
    "# df.loc[[3200,3388]] # looks for 3200 in the index\n",
    "\n",
    "\n",
    "\n",
    "print(3201 in df.index)\n",
    "\n",
    "print(3200 in df.index)\n",
    "print(3388 in df.index)\n"
   ]
  },
  {
   "cell_type": "markdown",
   "metadata": {},
   "source": [
    "<b>7. For subjects 3202, 3235, 3236, the ‘IL2’ values in the table are invalid. Change their values to the maximal value in the 'IL2' column.</b>\n",
    "<br><br>a. First, what are these subjects' IL2 values?"
   ]
  },
  {
   "cell_type": "code",
   "execution_count": 37,
   "metadata": {},
   "outputs": [
    {
     "data": {
      "text/plain": [
       "ID\n",
       "3202    1.49\n",
       "3235    1.25\n",
       "3236    1.25\n",
       "Name: IL2, dtype: float64"
      ]
     },
     "execution_count": 37,
     "metadata": {},
     "output_type": "execute_result"
    }
   ],
   "source": [
    "df.loc[[3202, 3235, 3236], 'IL2']"
   ]
  },
  {
   "cell_type": "markdown",
   "metadata": {},
   "source": [
    "b. What is the max IL2 value?"
   ]
  },
  {
   "cell_type": "code",
   "execution_count": 38,
   "metadata": {},
   "outputs": [
    {
     "data": {
      "text/plain": [
       "67.1"
      ]
     },
     "execution_count": 38,
     "metadata": {},
     "output_type": "execute_result"
    }
   ],
   "source": [
    "df['IL2'].max()"
   ]
  },
  {
   "cell_type": "markdown",
   "metadata": {},
   "source": [
    "c. Now, change the values in the dataframe."
   ]
  },
  {
   "cell_type": "code",
   "execution_count": 39,
   "metadata": {},
   "outputs": [],
   "source": [
    "df.loc[[3202, 3235, 3236], 'IL2'] = df['IL2'].max()"
   ]
  },
  {
   "cell_type": "markdown",
   "metadata": {},
   "source": [
    "d. Make sure the values were properly changed."
   ]
  },
  {
   "cell_type": "code",
   "execution_count": 40,
   "metadata": {},
   "outputs": [
    {
     "data": {
      "text/plain": [
       "ID\n",
       "3202    67.1\n",
       "3235    67.1\n",
       "3236    67.1\n",
       "Name: IL2, dtype: float64"
      ]
     },
     "execution_count": 40,
     "metadata": {},
     "output_type": "execute_result"
    }
   ],
   "source": [
    "df.loc[[3202, 3235, 3236], 'IL2']"
   ]
  },
  {
   "cell_type": "markdown",
   "metadata": {},
   "source": [
    " <b>8. Add column <i>'Age'</i> (in years), & delete old column <i>'Age_months'</i></b>"
   ]
  },
  {
   "cell_type": "code",
   "execution_count": 41,
   "metadata": {},
   "outputs": [],
   "source": [
    "df['Age'] = df['Age_months'] / 12\n",
    "df.drop(columns=['Age_months'], inplace=True)"
   ]
  },
  {
   "cell_type": "markdown",
   "metadata": {},
   "source": [
    "View the dataframe to see the change"
   ]
  },
  {
   "cell_type": "code",
   "execution_count": 42,
   "metadata": {},
   "outputs": [
    {
     "data": {
      "text/html": [
       "<div>\n",
       "<style scoped>\n",
       "    .dataframe tbody tr th:only-of-type {\n",
       "        vertical-align: middle;\n",
       "    }\n",
       "\n",
       "    .dataframe tbody tr th {\n",
       "        vertical-align: top;\n",
       "    }\n",
       "\n",
       "    .dataframe thead th {\n",
       "        text-align: right;\n",
       "    }\n",
       "</style>\n",
       "<table border=\"1\" class=\"dataframe\">\n",
       "  <thead>\n",
       "    <tr style=\"text-align: right;\">\n",
       "      <th></th>\n",
       "      <th>Gender</th>\n",
       "      <th>Influenza_test_result_positive</th>\n",
       "      <th>EGF</th>\n",
       "      <th>FKN</th>\n",
       "      <th>GRO</th>\n",
       "      <th>IFNγ</th>\n",
       "      <th>IL1α</th>\n",
       "      <th>IL2</th>\n",
       "      <th>IL4</th>\n",
       "      <th>IL5</th>\n",
       "      <th>...</th>\n",
       "      <th>IL10</th>\n",
       "      <th>IP10</th>\n",
       "      <th>MCP1</th>\n",
       "      <th>MCP3</th>\n",
       "      <th>MDC</th>\n",
       "      <th>MIP1α</th>\n",
       "      <th>TGFα</th>\n",
       "      <th>TNFα</th>\n",
       "      <th>TNFβ</th>\n",
       "      <th>Age</th>\n",
       "    </tr>\n",
       "    <tr>\n",
       "      <th>ID</th>\n",
       "      <th></th>\n",
       "      <th></th>\n",
       "      <th></th>\n",
       "      <th></th>\n",
       "      <th></th>\n",
       "      <th></th>\n",
       "      <th></th>\n",
       "      <th></th>\n",
       "      <th></th>\n",
       "      <th></th>\n",
       "      <th></th>\n",
       "      <th></th>\n",
       "      <th></th>\n",
       "      <th></th>\n",
       "      <th></th>\n",
       "      <th></th>\n",
       "      <th></th>\n",
       "      <th></th>\n",
       "      <th></th>\n",
       "      <th></th>\n",
       "      <th></th>\n",
       "    </tr>\n",
       "  </thead>\n",
       "  <tbody>\n",
       "    <tr>\n",
       "      <th>3201</th>\n",
       "      <td>Male</td>\n",
       "      <td>True</td>\n",
       "      <td>NaN</td>\n",
       "      <td>NaN</td>\n",
       "      <td>NaN</td>\n",
       "      <td>NaN</td>\n",
       "      <td>NaN</td>\n",
       "      <td>NaN</td>\n",
       "      <td>NaN</td>\n",
       "      <td>NaN</td>\n",
       "      <td>...</td>\n",
       "      <td>NaN</td>\n",
       "      <td>NaN</td>\n",
       "      <td>NaN</td>\n",
       "      <td>NaN</td>\n",
       "      <td>NaN</td>\n",
       "      <td>NaN</td>\n",
       "      <td>NaN</td>\n",
       "      <td>NaN</td>\n",
       "      <td>NaN</td>\n",
       "      <td>1.502778</td>\n",
       "    </tr>\n",
       "    <tr>\n",
       "      <th>3202</th>\n",
       "      <td>Male</td>\n",
       "      <td>True</td>\n",
       "      <td>179.16</td>\n",
       "      <td>49.11</td>\n",
       "      <td>1019.90</td>\n",
       "      <td>8.36</td>\n",
       "      <td>17.34</td>\n",
       "      <td>67.10</td>\n",
       "      <td>1.94</td>\n",
       "      <td>0.66</td>\n",
       "      <td>...</td>\n",
       "      <td>31.87</td>\n",
       "      <td>3560.13</td>\n",
       "      <td>2737.32</td>\n",
       "      <td>67.07</td>\n",
       "      <td>1158.00</td>\n",
       "      <td>171.51</td>\n",
       "      <td>3.61</td>\n",
       "      <td>15.93</td>\n",
       "      <td>1.61</td>\n",
       "      <td>3.744444</td>\n",
       "    </tr>\n",
       "    <tr>\n",
       "      <th>3203</th>\n",
       "      <td>Female</td>\n",
       "      <td>False</td>\n",
       "      <td>NaN</td>\n",
       "      <td>NaN</td>\n",
       "      <td>NaN</td>\n",
       "      <td>NaN</td>\n",
       "      <td>NaN</td>\n",
       "      <td>NaN</td>\n",
       "      <td>NaN</td>\n",
       "      <td>NaN</td>\n",
       "      <td>...</td>\n",
       "      <td>NaN</td>\n",
       "      <td>NaN</td>\n",
       "      <td>NaN</td>\n",
       "      <td>NaN</td>\n",
       "      <td>NaN</td>\n",
       "      <td>NaN</td>\n",
       "      <td>NaN</td>\n",
       "      <td>NaN</td>\n",
       "      <td>NaN</td>\n",
       "      <td>13.052778</td>\n",
       "    </tr>\n",
       "    <tr>\n",
       "      <th>3204</th>\n",
       "      <td>Female</td>\n",
       "      <td>False</td>\n",
       "      <td>191.72</td>\n",
       "      <td>33.36</td>\n",
       "      <td>2038.28</td>\n",
       "      <td>7.36</td>\n",
       "      <td>0.13</td>\n",
       "      <td>0.45</td>\n",
       "      <td>2.53</td>\n",
       "      <td>0.50</td>\n",
       "      <td>...</td>\n",
       "      <td>0.09</td>\n",
       "      <td>225.61</td>\n",
       "      <td>159.52</td>\n",
       "      <td>6.66</td>\n",
       "      <td>1867.52</td>\n",
       "      <td>8.43</td>\n",
       "      <td>2.36</td>\n",
       "      <td>4.91</td>\n",
       "      <td>0.53</td>\n",
       "      <td>6.633333</td>\n",
       "    </tr>\n",
       "    <tr>\n",
       "      <th>3205</th>\n",
       "      <td>Female</td>\n",
       "      <td>True</td>\n",
       "      <td>NaN</td>\n",
       "      <td>NaN</td>\n",
       "      <td>NaN</td>\n",
       "      <td>NaN</td>\n",
       "      <td>NaN</td>\n",
       "      <td>NaN</td>\n",
       "      <td>NaN</td>\n",
       "      <td>NaN</td>\n",
       "      <td>...</td>\n",
       "      <td>NaN</td>\n",
       "      <td>NaN</td>\n",
       "      <td>NaN</td>\n",
       "      <td>NaN</td>\n",
       "      <td>NaN</td>\n",
       "      <td>NaN</td>\n",
       "      <td>NaN</td>\n",
       "      <td>NaN</td>\n",
       "      <td>NaN</td>\n",
       "      <td>1.158333</td>\n",
       "    </tr>\n",
       "  </tbody>\n",
       "</table>\n",
       "<p>5 rows × 23 columns</p>\n",
       "</div>"
      ],
      "text/plain": [
       "      Gender  Influenza_test_result_positive     EGF    FKN      GRO  IFNγ  \\\n",
       "ID                                                                           \n",
       "3201    Male                            True     NaN    NaN      NaN   NaN   \n",
       "3202    Male                            True  179.16  49.11  1019.90  8.36   \n",
       "3203  Female                           False     NaN    NaN      NaN   NaN   \n",
       "3204  Female                           False  191.72  33.36  2038.28  7.36   \n",
       "3205  Female                            True     NaN    NaN      NaN   NaN   \n",
       "\n",
       "       IL1α    IL2   IL4   IL5    ...       IL10     IP10     MCP1   MCP3  \\\n",
       "ID                                ...                                       \n",
       "3201    NaN    NaN   NaN   NaN    ...        NaN      NaN      NaN    NaN   \n",
       "3202  17.34  67.10  1.94  0.66    ...      31.87  3560.13  2737.32  67.07   \n",
       "3203    NaN    NaN   NaN   NaN    ...        NaN      NaN      NaN    NaN   \n",
       "3204   0.13   0.45  2.53  0.50    ...       0.09   225.61   159.52   6.66   \n",
       "3205    NaN    NaN   NaN   NaN    ...        NaN      NaN      NaN    NaN   \n",
       "\n",
       "          MDC   MIP1α  TGFα   TNFα  TNFβ        Age  \n",
       "ID                                                   \n",
       "3201      NaN     NaN   NaN    NaN   NaN   1.502778  \n",
       "3202  1158.00  171.51  3.61  15.93  1.61   3.744444  \n",
       "3203      NaN     NaN   NaN    NaN   NaN  13.052778  \n",
       "3204  1867.52    8.43  2.36   4.91  0.53   6.633333  \n",
       "3205      NaN     NaN   NaN    NaN   NaN   1.158333  \n",
       "\n",
       "[5 rows x 23 columns]"
      ]
     },
     "execution_count": 42,
     "metadata": {},
     "output_type": "execute_result"
    }
   ],
   "source": [
    "df.head()"
   ]
  },
  {
   "cell_type": "markdown",
   "metadata": {},
   "source": [
    "How can we change the order of the columns? <span style=\"color:#ff884d\">(instructor example)</span>"
   ]
  },
  {
   "cell_type": "code",
   "execution_count": 43,
   "metadata": {},
   "outputs": [
    {
     "data": {
      "text/plain": [
       "Index(['Gender', 'Influenza_test_result_positive', 'EGF', 'FKN', 'GRO', 'IFNγ',\n",
       "       'IL1α', 'IL2', 'IL4', 'IL5', 'IL6', 'IL8', 'IL9', 'IL10', 'IP10',\n",
       "       'MCP1', 'MCP3', 'MDC', 'MIP1α', 'TGFα', 'TNFα', 'TNFβ', 'Age'],\n",
       "      dtype='object')"
      ]
     },
     "execution_count": 43,
     "metadata": {},
     "output_type": "execute_result"
    }
   ],
   "source": [
    "df.columns"
   ]
  },
  {
   "cell_type": "code",
   "execution_count": 44,
   "metadata": {},
   "outputs": [
    {
     "data": {
      "text/plain": [
       "['Age',\n",
       " 'Gender',\n",
       " 'Influenza_test_result_positive',\n",
       " 'EGF',\n",
       " 'FKN',\n",
       " 'GRO',\n",
       " 'IFNγ',\n",
       " 'IL1α',\n",
       " 'IL2',\n",
       " 'IL4',\n",
       " 'IL5',\n",
       " 'IL6',\n",
       " 'IL8',\n",
       " 'IL9',\n",
       " 'IL10',\n",
       " 'IP10',\n",
       " 'MCP1',\n",
       " 'MCP3',\n",
       " 'MDC',\n",
       " 'MIP1α',\n",
       " 'TGFα',\n",
       " 'TNFα',\n",
       " 'TNFβ']"
      ]
     },
     "execution_count": 44,
     "metadata": {},
     "output_type": "execute_result"
    }
   ],
   "source": [
    "new_cols_order = ['Age', 'Gender', 'Influenza_test_result_positive', 'EGF', 'FKN', 'GRO', 'IFNγ',\n",
    "       'IL1α', 'IL2', 'IL4', 'IL5', 'IL6', 'IL8', 'IL9', 'IL10', 'IP10',\n",
    "       'MCP1', 'MCP3', 'MDC', 'MIP1α', 'TGFα', 'TNFα', 'TNFβ' ]\n",
    "new_cols_order"
   ]
  },
  {
   "cell_type": "code",
   "execution_count": 45,
   "metadata": {},
   "outputs": [
    {
     "data": {
      "text/plain": [
       "['Age',\n",
       " 'Gender',\n",
       " 'Influenza_test_result_positive',\n",
       " 'EGF',\n",
       " 'FKN',\n",
       " 'GRO',\n",
       " 'IFNγ',\n",
       " 'IL1α',\n",
       " 'IL2',\n",
       " 'IL4',\n",
       " 'IL5',\n",
       " 'IL6',\n",
       " 'IL8',\n",
       " 'IL9',\n",
       " 'IL10',\n",
       " 'IP10',\n",
       " 'MCP1',\n",
       " 'MCP3',\n",
       " 'MDC',\n",
       " 'MIP1α',\n",
       " 'TGFα',\n",
       " 'TNFα',\n",
       " 'TNFβ']"
      ]
     },
     "execution_count": 45,
     "metadata": {},
     "output_type": "execute_result"
    }
   ],
   "source": [
    "cols = list(df.columns)\n",
    "new_cols_order = cols[-1:] + cols[:-1]\n",
    "new_cols_order"
   ]
  },
  {
   "cell_type": "code",
   "execution_count": 46,
   "metadata": {},
   "outputs": [
    {
     "data": {
      "text/plain": [
       "Index(['AgeGender', 'AgeInfluenza_test_result_positive', 'AgeEGF', 'AgeFKN',\n",
       "       'AgeGRO', 'AgeIFNγ', 'AgeIL1α', 'AgeIL2', 'AgeIL4', 'AgeIL5', 'AgeIL6',\n",
       "       'AgeIL8', 'AgeIL9', 'AgeIL10', 'AgeIP10', 'AgeMCP1', 'AgeMCP3',\n",
       "       'AgeMDC', 'AgeMIP1α', 'AgeTGFα', 'AgeTNFα', 'AgeTNFβ'],\n",
       "      dtype='object')"
      ]
     },
     "execution_count": 46,
     "metadata": {},
     "output_type": "execute_result"
    }
   ],
   "source": [
    "df.columns[-1:] + df.columns[:-1]"
   ]
  },
  {
   "cell_type": "code",
   "execution_count": 47,
   "metadata": {},
   "outputs": [
    {
     "data": {
      "text/html": [
       "<div>\n",
       "<style scoped>\n",
       "    .dataframe tbody tr th:only-of-type {\n",
       "        vertical-align: middle;\n",
       "    }\n",
       "\n",
       "    .dataframe tbody tr th {\n",
       "        vertical-align: top;\n",
       "    }\n",
       "\n",
       "    .dataframe thead th {\n",
       "        text-align: right;\n",
       "    }\n",
       "</style>\n",
       "<table border=\"1\" class=\"dataframe\">\n",
       "  <thead>\n",
       "    <tr style=\"text-align: right;\">\n",
       "      <th></th>\n",
       "      <th>Age</th>\n",
       "      <th>Gender</th>\n",
       "      <th>Influenza_test_result_positive</th>\n",
       "      <th>EGF</th>\n",
       "      <th>FKN</th>\n",
       "      <th>GRO</th>\n",
       "      <th>IFNγ</th>\n",
       "      <th>IL1α</th>\n",
       "      <th>IL2</th>\n",
       "      <th>IL4</th>\n",
       "      <th>...</th>\n",
       "      <th>IL9</th>\n",
       "      <th>IL10</th>\n",
       "      <th>IP10</th>\n",
       "      <th>MCP1</th>\n",
       "      <th>MCP3</th>\n",
       "      <th>MDC</th>\n",
       "      <th>MIP1α</th>\n",
       "      <th>TGFα</th>\n",
       "      <th>TNFα</th>\n",
       "      <th>TNFβ</th>\n",
       "    </tr>\n",
       "    <tr>\n",
       "      <th>ID</th>\n",
       "      <th></th>\n",
       "      <th></th>\n",
       "      <th></th>\n",
       "      <th></th>\n",
       "      <th></th>\n",
       "      <th></th>\n",
       "      <th></th>\n",
       "      <th></th>\n",
       "      <th></th>\n",
       "      <th></th>\n",
       "      <th></th>\n",
       "      <th></th>\n",
       "      <th></th>\n",
       "      <th></th>\n",
       "      <th></th>\n",
       "      <th></th>\n",
       "      <th></th>\n",
       "      <th></th>\n",
       "      <th></th>\n",
       "      <th></th>\n",
       "      <th></th>\n",
       "    </tr>\n",
       "  </thead>\n",
       "  <tbody>\n",
       "    <tr>\n",
       "      <th>3201</th>\n",
       "      <td>1.502778</td>\n",
       "      <td>Male</td>\n",
       "      <td>True</td>\n",
       "      <td>NaN</td>\n",
       "      <td>NaN</td>\n",
       "      <td>NaN</td>\n",
       "      <td>NaN</td>\n",
       "      <td>NaN</td>\n",
       "      <td>NaN</td>\n",
       "      <td>NaN</td>\n",
       "      <td>...</td>\n",
       "      <td>NaN</td>\n",
       "      <td>NaN</td>\n",
       "      <td>NaN</td>\n",
       "      <td>NaN</td>\n",
       "      <td>NaN</td>\n",
       "      <td>NaN</td>\n",
       "      <td>NaN</td>\n",
       "      <td>NaN</td>\n",
       "      <td>NaN</td>\n",
       "      <td>NaN</td>\n",
       "    </tr>\n",
       "    <tr>\n",
       "      <th>3202</th>\n",
       "      <td>3.744444</td>\n",
       "      <td>Male</td>\n",
       "      <td>True</td>\n",
       "      <td>179.16</td>\n",
       "      <td>49.11</td>\n",
       "      <td>1019.90</td>\n",
       "      <td>8.36</td>\n",
       "      <td>17.34</td>\n",
       "      <td>67.10</td>\n",
       "      <td>1.94</td>\n",
       "      <td>...</td>\n",
       "      <td>2.26</td>\n",
       "      <td>31.87</td>\n",
       "      <td>3560.13</td>\n",
       "      <td>2737.32</td>\n",
       "      <td>67.07</td>\n",
       "      <td>1158.00</td>\n",
       "      <td>171.51</td>\n",
       "      <td>3.61</td>\n",
       "      <td>15.93</td>\n",
       "      <td>1.61</td>\n",
       "    </tr>\n",
       "    <tr>\n",
       "      <th>3203</th>\n",
       "      <td>13.052778</td>\n",
       "      <td>Female</td>\n",
       "      <td>False</td>\n",
       "      <td>NaN</td>\n",
       "      <td>NaN</td>\n",
       "      <td>NaN</td>\n",
       "      <td>NaN</td>\n",
       "      <td>NaN</td>\n",
       "      <td>NaN</td>\n",
       "      <td>NaN</td>\n",
       "      <td>...</td>\n",
       "      <td>NaN</td>\n",
       "      <td>NaN</td>\n",
       "      <td>NaN</td>\n",
       "      <td>NaN</td>\n",
       "      <td>NaN</td>\n",
       "      <td>NaN</td>\n",
       "      <td>NaN</td>\n",
       "      <td>NaN</td>\n",
       "      <td>NaN</td>\n",
       "      <td>NaN</td>\n",
       "    </tr>\n",
       "    <tr>\n",
       "      <th>3204</th>\n",
       "      <td>6.633333</td>\n",
       "      <td>Female</td>\n",
       "      <td>False</td>\n",
       "      <td>191.72</td>\n",
       "      <td>33.36</td>\n",
       "      <td>2038.28</td>\n",
       "      <td>7.36</td>\n",
       "      <td>0.13</td>\n",
       "      <td>0.45</td>\n",
       "      <td>2.53</td>\n",
       "      <td>...</td>\n",
       "      <td>0.33</td>\n",
       "      <td>0.09</td>\n",
       "      <td>225.61</td>\n",
       "      <td>159.52</td>\n",
       "      <td>6.66</td>\n",
       "      <td>1867.52</td>\n",
       "      <td>8.43</td>\n",
       "      <td>2.36</td>\n",
       "      <td>4.91</td>\n",
       "      <td>0.53</td>\n",
       "    </tr>\n",
       "    <tr>\n",
       "      <th>3205</th>\n",
       "      <td>1.158333</td>\n",
       "      <td>Female</td>\n",
       "      <td>True</td>\n",
       "      <td>NaN</td>\n",
       "      <td>NaN</td>\n",
       "      <td>NaN</td>\n",
       "      <td>NaN</td>\n",
       "      <td>NaN</td>\n",
       "      <td>NaN</td>\n",
       "      <td>NaN</td>\n",
       "      <td>...</td>\n",
       "      <td>NaN</td>\n",
       "      <td>NaN</td>\n",
       "      <td>NaN</td>\n",
       "      <td>NaN</td>\n",
       "      <td>NaN</td>\n",
       "      <td>NaN</td>\n",
       "      <td>NaN</td>\n",
       "      <td>NaN</td>\n",
       "      <td>NaN</td>\n",
       "      <td>NaN</td>\n",
       "    </tr>\n",
       "  </tbody>\n",
       "</table>\n",
       "<p>5 rows × 23 columns</p>\n",
       "</div>"
      ],
      "text/plain": [
       "            Age  Gender  Influenza_test_result_positive     EGF    FKN  \\\n",
       "ID                                                                       \n",
       "3201   1.502778    Male                            True     NaN    NaN   \n",
       "3202   3.744444    Male                            True  179.16  49.11   \n",
       "3203  13.052778  Female                           False     NaN    NaN   \n",
       "3204   6.633333  Female                           False  191.72  33.36   \n",
       "3205   1.158333  Female                            True     NaN    NaN   \n",
       "\n",
       "          GRO  IFNγ   IL1α    IL2   IL4  ...    IL9   IL10     IP10     MCP1  \\\n",
       "ID                                       ...                                   \n",
       "3201      NaN   NaN    NaN    NaN   NaN  ...    NaN    NaN      NaN      NaN   \n",
       "3202  1019.90  8.36  17.34  67.10  1.94  ...   2.26  31.87  3560.13  2737.32   \n",
       "3203      NaN   NaN    NaN    NaN   NaN  ...    NaN    NaN      NaN      NaN   \n",
       "3204  2038.28  7.36   0.13   0.45  2.53  ...   0.33   0.09   225.61   159.52   \n",
       "3205      NaN   NaN    NaN    NaN   NaN  ...    NaN    NaN      NaN      NaN   \n",
       "\n",
       "       MCP3      MDC   MIP1α  TGFα   TNFα  TNFβ  \n",
       "ID                                               \n",
       "3201    NaN      NaN     NaN   NaN    NaN   NaN  \n",
       "3202  67.07  1158.00  171.51  3.61  15.93  1.61  \n",
       "3203    NaN      NaN     NaN   NaN    NaN   NaN  \n",
       "3204   6.66  1867.52    8.43  2.36   4.91  0.53  \n",
       "3205    NaN      NaN     NaN   NaN    NaN   NaN  \n",
       "\n",
       "[5 rows x 23 columns]"
      ]
     },
     "execution_count": 47,
     "metadata": {},
     "output_type": "execute_result"
    }
   ],
   "source": [
    "df = df[new_cols_order]\n",
    "df.head()"
   ]
  },
  {
   "cell_type": "markdown",
   "metadata": {},
   "source": [
    " <b>9. Rename column 'Influenza_test_result_positive' to 'Flu_positive'</b>"
   ]
  },
  {
   "cell_type": "code",
   "execution_count": 48,
   "metadata": {},
   "outputs": [],
   "source": [
    "df = df.rename(columns={'Influenza_test_result_positive': 'Flu_positive'}) \n",
    "# df = df.rename({'Influenza_test_result_positive': 'Flu_positive'}, axis=1) # same"
   ]
  },
  {
   "cell_type": "markdown",
   "metadata": {},
   "source": [
    "<b> 10. Add suffix '_Plasma' to all cytokine column names. </b>\n",
    "<br> Later, you will have to execute operations over all cytokine columns again. So, think of an efficient way to solve this question that will help you later as well, i.e., that will enable you to extract a list of all cytokine columns easily again.\n",
    "<br> *You can use a loop for this"
   ]
  },
  {
   "cell_type": "code",
   "execution_count": 49,
   "metadata": {},
   "outputs": [
    {
     "data": {
      "text/plain": [
       "Index(['Age', 'Gender', 'Flu_positive', 'EGF', 'FKN', 'GRO', 'IFNγ', 'IL1α',\n",
       "       'IL2', 'IL4', 'IL5', 'IL6', 'IL8', 'IL9', 'IL10', 'IP10', 'MCP1',\n",
       "       'MCP3', 'MDC', 'MIP1α', 'TGFα', 'TNFα', 'TNFβ'],\n",
       "      dtype='object')"
      ]
     },
     "execution_count": 49,
     "metadata": {},
     "output_type": "execute_result"
    }
   ],
   "source": [
    "df.columns"
   ]
  },
  {
   "cell_type": "code",
   "execution_count": 60,
   "metadata": {},
   "outputs": [
    {
     "data": {
      "text/plain": [
       "{'EGF': 'EGF_Plasma',\n",
       " 'FKN': 'FKN_Plasma',\n",
       " 'GRO': 'GRO_Plasma',\n",
       " 'IFNγ': 'IFNγ_Plasma',\n",
       " 'IL1α': 'IL1α_Plasma',\n",
       " 'IL2': 'IL2_Plasma',\n",
       " 'IL4': 'IL4_Plasma',\n",
       " 'IL5': 'IL5_Plasma',\n",
       " 'IL6': 'IL6_Plasma',\n",
       " 'IL8': 'IL8_Plasma',\n",
       " 'IL9': 'IL9_Plasma',\n",
       " 'IL10': 'IL10_Plasma',\n",
       " 'IP10': 'IP10_Plasma',\n",
       " 'MCP1': 'MCP1_Plasma',\n",
       " 'MCP3': 'MCP3_Plasma',\n",
       " 'MDC': 'MDC_Plasma',\n",
       " 'MIP1α': 'MIP1α_Plasma',\n",
       " 'TGFα': 'TGFα_Plasma',\n",
       " 'TNFα': 'TNFα_Plasma',\n",
       " 'TNFβ': 'TNFβ_Plasma'}"
      ]
     },
     "execution_count": 60,
     "metadata": {},
     "output_type": "execute_result"
    }
   ],
   "source": [
    "# Let's create a dict of all cytokine original col names (keys) + new names (vals).\n",
    "cy_cols_new_names = {}\n",
    "\n",
    "for name in df.columns:\n",
    "    if name not in ['Gender', 'Flu_positive', 'Age']:\n",
    "        cy_cols_new_names[name] = name + '_Plasma'\n",
    "\n",
    "cy_cols_new_names"
   ]
  },
  {
   "cell_type": "code",
   "execution_count": 61,
   "metadata": {},
   "outputs": [
    {
     "data": {
      "text/plain": [
       "Index(['Age', 'Gender', 'Flu_positive', 'EGF_Plasma', 'FKN_Plasma',\n",
       "       'GRO_Plasma', 'IFNγ_Plasma', 'IL1α_Plasma', 'IL2_Plasma', 'IL4_Plasma',\n",
       "       'IL5_Plasma', 'IL6_Plasma', 'IL8_Plasma', 'IL9_Plasma', 'IL10_Plasma',\n",
       "       'IP10_Plasma', 'MCP1_Plasma', 'MCP3_Plasma', 'MDC_Plasma',\n",
       "       'MIP1α_Plasma', 'TGFα_Plasma', 'TNFα_Plasma', 'TNFβ_Plasma'],\n",
       "      dtype='object')"
      ]
     },
     "execution_count": 61,
     "metadata": {},
     "output_type": "execute_result"
    }
   ],
   "source": [
    "# Change the names\n",
    "df.rename(columns=cy_cols_new_names, inplace=True)\n",
    "\n",
    "df.columns"
   ]
  },
  {
   "cell_type": "markdown",
   "metadata": {},
   "source": [
    "<b> 11. Assign the 'Gender' column value counts to a new variable named <span style=\"color:brown\">df_gender_count</span>.\n",
    "</b>"
   ]
  },
  {
   "cell_type": "code",
   "execution_count": 62,
   "metadata": {},
   "outputs": [
    {
     "data": {
      "text/plain": [
       "Female    193\n",
       "Male      113\n",
       "Name: Gender, dtype: int64"
      ]
     },
     "execution_count": 62,
     "metadata": {},
     "output_type": "execute_result"
    }
   ],
   "source": [
    "df_gender_count = df['Gender'].value_counts()\n",
    "df_gender_count"
   ]
  },
  {
   "cell_type": "markdown",
   "metadata": {},
   "source": [
    "<b>12. Now, using <span style=\"color:brown\">df_gender_count</span>, calculate the percentage of females out of all patients in df (result is a float between 0-100)."
   ]
  },
  {
   "cell_type": "code",
   "execution_count": 63,
   "metadata": {},
   "outputs": [
    {
     "data": {
      "text/plain": [
       "63.071895424836605"
      ]
     },
     "execution_count": 63,
     "metadata": {},
     "output_type": "execute_result"
    }
   ],
   "source": [
    "df_females_per  = 100 * df_gender_count['Female'] / df_gender_count.sum()\n",
    "df_females_per"
   ]
  },
  {
   "cell_type": "markdown",
   "metadata": {},
   "source": [
    "## <span style=\"color:green\">Manipulating values using numpy</span>"
   ]
  },
  {
   "cell_type": "markdown",
   "metadata": {},
   "source": [
    "<b>13. Create <span style=\"color:brown\">df_log</span> - a copy of df in which all cytokine columns are log transformed (using the np.log10 function) </b><br>"
   ]
  },
  {
   "cell_type": "code",
   "execution_count": 64,
   "metadata": {},
   "outputs": [],
   "source": [
    "col_names_cy = list(cy_cols_new_names.values())\n",
    "\n",
    "df_log = df.copy() # if we'd do df_log = df, df_log will just point to df!\n",
    "df_log[col_names_cy] = np.log10(df[col_names_cy])"
   ]
  },
  {
   "cell_type": "markdown",
   "metadata": {},
   "source": [
    "Make sure the transformation was done correctly!"
   ]
  },
  {
   "cell_type": "code",
   "execution_count": 66,
   "metadata": {},
   "outputs": [
    {
     "name": "stdout",
     "output_type": "stream",
     "text": [
      "df_log: 2.2532410537726504\n",
      "np.log10(df): 2.2532410537726504\n",
      "Are equal: True\n"
     ]
    },
    {
     "data": {
      "text/plain": [
       "True"
      ]
     },
     "execution_count": 66,
     "metadata": {},
     "output_type": "execute_result"
    }
   ],
   "source": [
    "print('df_log:',        df_log.loc[3202, 'EGF_Plasma'])\n",
    "print('np.log10(df):',     np.log10(df.loc[3202, 'EGF_Plasma']))\n",
    "\n",
    "print('Are equal:', df_log.loc[3202, 'EGF_Plasma'] == np.log10(df.loc[3202, 'EGF_Plasma']))\n",
    "\n",
    "# numpy assertion\n",
    "np.allclose(np.log10(df[col_names_cy]),\n",
    "            df_log[col_names_cy],\n",
    "            equal_nan=True)"
   ]
  },
  {
   "cell_type": "markdown",
   "metadata": {},
   "source": [
    "<b> 14. Using join, add to <span style=\"color:brown\">df</span>, all the log transformed cytokine columns from <span style=\"color:brown\">df_log</span></b>"
   ]
  },
  {
   "cell_type": "code",
   "execution_count": 67,
   "metadata": {},
   "outputs": [
    {
     "data": {
      "text/plain": [
       "Index(['Age', 'Gender', 'Flu_positive', 'EGF_Plasma', 'FKN_Plasma',\n",
       "       'GRO_Plasma', 'IFNγ_Plasma', 'IL1α_Plasma', 'IL2_Plasma', 'IL4_Plasma',\n",
       "       'IL5_Plasma', 'IL6_Plasma', 'IL8_Plasma', 'IL9_Plasma', 'IL10_Plasma',\n",
       "       'IP10_Plasma', 'MCP1_Plasma', 'MCP3_Plasma', 'MDC_Plasma',\n",
       "       'MIP1α_Plasma', 'TGFα_Plasma', 'TNFα_Plasma', 'TNFβ_Plasma',\n",
       "       'EGF_Plasma_log', 'FKN_Plasma_log', 'GRO_Plasma_log', 'IFNγ_Plasma_log',\n",
       "       'IL1α_Plasma_log', 'IL2_Plasma_log', 'IL4_Plasma_log', 'IL5_Plasma_log',\n",
       "       'IL6_Plasma_log', 'IL8_Plasma_log', 'IL9_Plasma_log', 'IL10_Plasma_log',\n",
       "       'IP10_Plasma_log', 'MCP1_Plasma_log', 'MCP3_Plasma_log',\n",
       "       'MDC_Plasma_log', 'MIP1α_Plasma_log', 'TGFα_Plasma_log',\n",
       "       'TNFα_Plasma_log', 'TNFβ_Plasma_log'],\n",
       "      dtype='object')"
      ]
     },
     "execution_count": 67,
     "metadata": {},
     "output_type": "execute_result"
    }
   ],
   "source": [
    "df = df.join(df_log[col_names_cy], rsuffix='_log')\n",
    "\n",
    "df.columns"
   ]
  },
  {
   "cell_type": "markdown",
   "metadata": {},
   "source": [
    "## <span style=\"color:green\">Analyzing a subset of rows using condition</span>"
   ]
  },
  {
   "cell_type": "markdown",
   "metadata": {},
   "source": [
    "<b>15. We were asked to analyze a subset of <span style=\"color:brown\">df</span> rows - female patients only.<br>\n",
    "First, create a series of booleans using the condition, i.e., a filter. </b>"
   ]
  },
  {
   "cell_type": "code",
   "execution_count": 68,
   "metadata": {},
   "outputs": [
    {
     "data": {
      "text/plain": [
       "array(['Male', 'Female'], dtype=object)"
      ]
     },
     "execution_count": 68,
     "metadata": {},
     "output_type": "execute_result"
    }
   ],
   "source": [
    "df['Gender'].unique() # see which values the column has"
   ]
  },
  {
   "cell_type": "code",
   "execution_count": 69,
   "metadata": {},
   "outputs": [
    {
     "data": {
      "text/plain": [
       "ID\n",
       "3201    False\n",
       "3202    False\n",
       "3203     True\n",
       "3204     True\n",
       "3205     True\n",
       "Name: Gender, dtype: bool"
      ]
     },
     "execution_count": 69,
     "metadata": {},
     "output_type": "execute_result"
    }
   ],
   "source": [
    "ind_female = df['Gender'] == 'Female'\n",
    "\n",
    "ind_female.head()"
   ]
  },
  {
   "cell_type": "markdown",
   "metadata": {},
   "source": [
    "<b>16. Get the 'Flu_positive' value counts, of the female patients only.</b>"
   ]
  },
  {
   "cell_type": "code",
   "execution_count": 70,
   "metadata": {},
   "outputs": [
    {
     "data": {
      "text/plain": [
       "False    106\n",
       "True      87\n",
       "Name: Flu_positive, dtype: int64"
      ]
     },
     "execution_count": 70,
     "metadata": {},
     "output_type": "execute_result"
    }
   ],
   "source": [
    "df.loc[ind_female, 'Flu_positive'].value_counts()"
   ]
  },
  {
   "cell_type": "markdown",
   "metadata": {},
   "source": [
    "<b>17. Get a list of the the female patients row labels </b>"
   ]
  },
  {
   "cell_type": "code",
   "execution_count": 71,
   "metadata": {},
   "outputs": [
    {
     "data": {
      "text/plain": [
       "Int64Index([3203, 3204, 3205, 3206, 3209, 3211, 3212, 3213, 3214, 3215,\n",
       "            ...\n",
       "            3491, 3492, 3494, 3495, 3497, 3498, 3501, 3502, 3505, 3506],\n",
       "           dtype='int64', name='ID', length=193)"
      ]
     },
     "execution_count": 71,
     "metadata": {},
     "output_type": "execute_result"
    }
   ],
   "source": [
    "labels_female = df.loc[ind_female].index\n",
    "\n",
    "labels_female"
   ]
  },
  {
   "cell_type": "code",
   "execution_count": 72,
   "metadata": {},
   "outputs": [
    {
     "data": {
      "text/plain": [
       "Int64Index([3203, 3204, 3205, 3206, 3209, 3211, 3212, 3213, 3214, 3215,\n",
       "            ...\n",
       "            3491, 3492, 3494, 3495, 3497, 3498, 3501, 3502, 3505, 3506],\n",
       "           dtype='int64', name='ID', length=193)"
      ]
     },
     "execution_count": 72,
     "metadata": {},
     "output_type": "execute_result"
    }
   ],
   "source": [
    "labels_female = df.index[ind_female]\n",
    "\n",
    "labels_female"
   ]
  },
  {
   "cell_type": "markdown",
   "metadata": {},
   "source": [
    "<b>18. Create a new dataframe named <span style=\"color:brown\">df_females</span>, which contains only female patients from <span style=\"color:brown\">df</span>. </b>"
   ]
  },
  {
   "cell_type": "code",
   "execution_count": 73,
   "metadata": {},
   "outputs": [
    {
     "data": {
      "text/html": [
       "<div>\n",
       "<style scoped>\n",
       "    .dataframe tbody tr th:only-of-type {\n",
       "        vertical-align: middle;\n",
       "    }\n",
       "\n",
       "    .dataframe tbody tr th {\n",
       "        vertical-align: top;\n",
       "    }\n",
       "\n",
       "    .dataframe thead th {\n",
       "        text-align: right;\n",
       "    }\n",
       "</style>\n",
       "<table border=\"1\" class=\"dataframe\">\n",
       "  <thead>\n",
       "    <tr style=\"text-align: right;\">\n",
       "      <th></th>\n",
       "      <th>Age</th>\n",
       "      <th>Gender</th>\n",
       "      <th>Flu_positive</th>\n",
       "      <th>EGF_Plasma</th>\n",
       "      <th>FKN_Plasma</th>\n",
       "      <th>GRO_Plasma</th>\n",
       "      <th>IFNγ_Plasma</th>\n",
       "      <th>IL1α_Plasma</th>\n",
       "      <th>IL2_Plasma</th>\n",
       "      <th>IL4_Plasma</th>\n",
       "      <th>...</th>\n",
       "      <th>IL9_Plasma_log</th>\n",
       "      <th>IL10_Plasma_log</th>\n",
       "      <th>IP10_Plasma_log</th>\n",
       "      <th>MCP1_Plasma_log</th>\n",
       "      <th>MCP3_Plasma_log</th>\n",
       "      <th>MDC_Plasma_log</th>\n",
       "      <th>MIP1α_Plasma_log</th>\n",
       "      <th>TGFα_Plasma_log</th>\n",
       "      <th>TNFα_Plasma_log</th>\n",
       "      <th>TNFβ_Plasma_log</th>\n",
       "    </tr>\n",
       "    <tr>\n",
       "      <th>ID</th>\n",
       "      <th></th>\n",
       "      <th></th>\n",
       "      <th></th>\n",
       "      <th></th>\n",
       "      <th></th>\n",
       "      <th></th>\n",
       "      <th></th>\n",
       "      <th></th>\n",
       "      <th></th>\n",
       "      <th></th>\n",
       "      <th></th>\n",
       "      <th></th>\n",
       "      <th></th>\n",
       "      <th></th>\n",
       "      <th></th>\n",
       "      <th></th>\n",
       "      <th></th>\n",
       "      <th></th>\n",
       "      <th></th>\n",
       "      <th></th>\n",
       "      <th></th>\n",
       "    </tr>\n",
       "  </thead>\n",
       "  <tbody>\n",
       "    <tr>\n",
       "      <th>3203</th>\n",
       "      <td>13.052778</td>\n",
       "      <td>Female</td>\n",
       "      <td>False</td>\n",
       "      <td>NaN</td>\n",
       "      <td>NaN</td>\n",
       "      <td>NaN</td>\n",
       "      <td>NaN</td>\n",
       "      <td>NaN</td>\n",
       "      <td>NaN</td>\n",
       "      <td>NaN</td>\n",
       "      <td>...</td>\n",
       "      <td>NaN</td>\n",
       "      <td>NaN</td>\n",
       "      <td>NaN</td>\n",
       "      <td>NaN</td>\n",
       "      <td>NaN</td>\n",
       "      <td>NaN</td>\n",
       "      <td>NaN</td>\n",
       "      <td>NaN</td>\n",
       "      <td>NaN</td>\n",
       "      <td>NaN</td>\n",
       "    </tr>\n",
       "    <tr>\n",
       "      <th>3204</th>\n",
       "      <td>6.633333</td>\n",
       "      <td>Female</td>\n",
       "      <td>False</td>\n",
       "      <td>191.72</td>\n",
       "      <td>33.36</td>\n",
       "      <td>2038.28</td>\n",
       "      <td>7.36</td>\n",
       "      <td>0.13</td>\n",
       "      <td>0.45</td>\n",
       "      <td>2.53</td>\n",
       "      <td>...</td>\n",
       "      <td>-0.481486</td>\n",
       "      <td>-1.045757</td>\n",
       "      <td>2.353358</td>\n",
       "      <td>2.202815</td>\n",
       "      <td>0.823474</td>\n",
       "      <td>3.271265</td>\n",
       "      <td>0.925828</td>\n",
       "      <td>0.372912</td>\n",
       "      <td>0.691081</td>\n",
       "      <td>-0.275724</td>\n",
       "    </tr>\n",
       "    <tr>\n",
       "      <th>3205</th>\n",
       "      <td>1.158333</td>\n",
       "      <td>Female</td>\n",
       "      <td>True</td>\n",
       "      <td>NaN</td>\n",
       "      <td>NaN</td>\n",
       "      <td>NaN</td>\n",
       "      <td>NaN</td>\n",
       "      <td>NaN</td>\n",
       "      <td>NaN</td>\n",
       "      <td>NaN</td>\n",
       "      <td>...</td>\n",
       "      <td>NaN</td>\n",
       "      <td>NaN</td>\n",
       "      <td>NaN</td>\n",
       "      <td>NaN</td>\n",
       "      <td>NaN</td>\n",
       "      <td>NaN</td>\n",
       "      <td>NaN</td>\n",
       "      <td>NaN</td>\n",
       "      <td>NaN</td>\n",
       "      <td>NaN</td>\n",
       "    </tr>\n",
       "    <tr>\n",
       "      <th>3206</th>\n",
       "      <td>19.052778</td>\n",
       "      <td>Female</td>\n",
       "      <td>True</td>\n",
       "      <td>132.00</td>\n",
       "      <td>128.00</td>\n",
       "      <td>4132.00</td>\n",
       "      <td>13.54</td>\n",
       "      <td>49.02</td>\n",
       "      <td>3.48</td>\n",
       "      <td>3.13</td>\n",
       "      <td>...</td>\n",
       "      <td>-1.000000</td>\n",
       "      <td>1.238046</td>\n",
       "      <td>3.053078</td>\n",
       "      <td>2.478566</td>\n",
       "      <td>1.374565</td>\n",
       "      <td>3.056524</td>\n",
       "      <td>2.318063</td>\n",
       "      <td>1.384891</td>\n",
       "      <td>1.151063</td>\n",
       "      <td>-0.229148</td>\n",
       "    </tr>\n",
       "    <tr>\n",
       "      <th>3209</th>\n",
       "      <td>19.222222</td>\n",
       "      <td>Female</td>\n",
       "      <td>False</td>\n",
       "      <td>12.91</td>\n",
       "      <td>2.62</td>\n",
       "      <td>149.67</td>\n",
       "      <td>63.64</td>\n",
       "      <td>10.52</td>\n",
       "      <td>1.25</td>\n",
       "      <td>1.94</td>\n",
       "      <td>...</td>\n",
       "      <td>0.354108</td>\n",
       "      <td>0.008600</td>\n",
       "      <td>1.593729</td>\n",
       "      <td>1.994581</td>\n",
       "      <td>0.850646</td>\n",
       "      <td>2.984622</td>\n",
       "      <td>1.690905</td>\n",
       "      <td>0.278754</td>\n",
       "      <td>-0.167491</td>\n",
       "      <td>0.206826</td>\n",
       "    </tr>\n",
       "  </tbody>\n",
       "</table>\n",
       "<p>5 rows × 43 columns</p>\n",
       "</div>"
      ],
      "text/plain": [
       "            Age  Gender  Flu_positive  EGF_Plasma  FKN_Plasma  GRO_Plasma  \\\n",
       "ID                                                                          \n",
       "3203  13.052778  Female         False         NaN         NaN         NaN   \n",
       "3204   6.633333  Female         False      191.72       33.36     2038.28   \n",
       "3205   1.158333  Female          True         NaN         NaN         NaN   \n",
       "3206  19.052778  Female          True      132.00      128.00     4132.00   \n",
       "3209  19.222222  Female         False       12.91        2.62      149.67   \n",
       "\n",
       "      IFNγ_Plasma  IL1α_Plasma  IL2_Plasma  IL4_Plasma       ...         \\\n",
       "ID                                                           ...          \n",
       "3203          NaN          NaN         NaN         NaN       ...          \n",
       "3204         7.36         0.13        0.45        2.53       ...          \n",
       "3205          NaN          NaN         NaN         NaN       ...          \n",
       "3206        13.54        49.02        3.48        3.13       ...          \n",
       "3209        63.64        10.52        1.25        1.94       ...          \n",
       "\n",
       "      IL9_Plasma_log  IL10_Plasma_log  IP10_Plasma_log  MCP1_Plasma_log  \\\n",
       "ID                                                                        \n",
       "3203             NaN              NaN              NaN              NaN   \n",
       "3204       -0.481486        -1.045757         2.353358         2.202815   \n",
       "3205             NaN              NaN              NaN              NaN   \n",
       "3206       -1.000000         1.238046         3.053078         2.478566   \n",
       "3209        0.354108         0.008600         1.593729         1.994581   \n",
       "\n",
       "      MCP3_Plasma_log  MDC_Plasma_log  MIP1α_Plasma_log  TGFα_Plasma_log  \\\n",
       "ID                                                                         \n",
       "3203              NaN             NaN               NaN              NaN   \n",
       "3204         0.823474        3.271265          0.925828         0.372912   \n",
       "3205              NaN             NaN               NaN              NaN   \n",
       "3206         1.374565        3.056524          2.318063         1.384891   \n",
       "3209         0.850646        2.984622          1.690905         0.278754   \n",
       "\n",
       "      TNFα_Plasma_log  TNFβ_Plasma_log  \n",
       "ID                                      \n",
       "3203              NaN              NaN  \n",
       "3204         0.691081        -0.275724  \n",
       "3205              NaN              NaN  \n",
       "3206         1.151063        -0.229148  \n",
       "3209        -0.167491         0.206826  \n",
       "\n",
       "[5 rows x 43 columns]"
      ]
     },
     "execution_count": 73,
     "metadata": {},
     "output_type": "execute_result"
    }
   ],
   "source": [
    "df_females = df.loc[ind_female]\n",
    "df_females.head()"
   ]
  },
  {
   "cell_type": "markdown",
   "metadata": {},
   "source": [
    "<b>19. What is the mean 'IP10_Plasma' of the female flu positive subjects?</b>"
   ]
  },
  {
   "cell_type": "code",
   "execution_count": 77,
   "metadata": {},
   "outputs": [
    {
     "data": {
      "text/plain": [
       "1567.547818181818"
      ]
     },
     "execution_count": 77,
     "metadata": {},
     "output_type": "execute_result"
    }
   ],
   "source": [
    "df_females.loc[df_females['Flu_positive'], 'IP10_Plasma'].mean()"
   ]
  },
  {
   "cell_type": "markdown",
   "metadata": {},
   "source": [
    "<b>20. What is the mean 'IP10_Plasma' of of the female flu negative subjects?</b>"
   ]
  },
  {
   "cell_type": "code",
   "execution_count": null,
   "metadata": {},
   "outputs": [],
   "source": [
    "df_females.loc[~df_females['Flu_positive'], 'IP10_Plasma'].mean()"
   ]
  },
  {
   "cell_type": "markdown",
   "metadata": {},
   "source": [
    "<b>21. In <span style=\"color:brown\">df</span>, change 'Flu_positive' column values: <br>          True -> 1, False -> 0 </b>\n",
    "<br><span style=\"color:#ff884d\">(instructor example)</span>"
   ]
  },
  {
   "cell_type": "code",
   "execution_count": null,
   "metadata": {},
   "outputs": [],
   "source": [
    "df['Flu_positive'].unique()"
   ]
  },
  {
   "cell_type": "code",
   "execution_count": 78,
   "metadata": {},
   "outputs": [
    {
     "data": {
      "text/html": [
       "<div>\n",
       "<style scoped>\n",
       "    .dataframe tbody tr th:only-of-type {\n",
       "        vertical-align: middle;\n",
       "    }\n",
       "\n",
       "    .dataframe tbody tr th {\n",
       "        vertical-align: top;\n",
       "    }\n",
       "\n",
       "    .dataframe thead th {\n",
       "        text-align: right;\n",
       "    }\n",
       "</style>\n",
       "<table border=\"1\" class=\"dataframe\">\n",
       "  <thead>\n",
       "    <tr style=\"text-align: right;\">\n",
       "      <th></th>\n",
       "      <th>Age</th>\n",
       "      <th>Gender</th>\n",
       "      <th>Flu_positive</th>\n",
       "      <th>EGF_Plasma</th>\n",
       "      <th>FKN_Plasma</th>\n",
       "      <th>GRO_Plasma</th>\n",
       "      <th>IFNγ_Plasma</th>\n",
       "      <th>IL1α_Plasma</th>\n",
       "      <th>IL2_Plasma</th>\n",
       "      <th>IL4_Plasma</th>\n",
       "      <th>...</th>\n",
       "      <th>IL9_Plasma_log</th>\n",
       "      <th>IL10_Plasma_log</th>\n",
       "      <th>IP10_Plasma_log</th>\n",
       "      <th>MCP1_Plasma_log</th>\n",
       "      <th>MCP3_Plasma_log</th>\n",
       "      <th>MDC_Plasma_log</th>\n",
       "      <th>MIP1α_Plasma_log</th>\n",
       "      <th>TGFα_Plasma_log</th>\n",
       "      <th>TNFα_Plasma_log</th>\n",
       "      <th>TNFβ_Plasma_log</th>\n",
       "    </tr>\n",
       "    <tr>\n",
       "      <th>ID</th>\n",
       "      <th></th>\n",
       "      <th></th>\n",
       "      <th></th>\n",
       "      <th></th>\n",
       "      <th></th>\n",
       "      <th></th>\n",
       "      <th></th>\n",
       "      <th></th>\n",
       "      <th></th>\n",
       "      <th></th>\n",
       "      <th></th>\n",
       "      <th></th>\n",
       "      <th></th>\n",
       "      <th></th>\n",
       "      <th></th>\n",
       "      <th></th>\n",
       "      <th></th>\n",
       "      <th></th>\n",
       "      <th></th>\n",
       "      <th></th>\n",
       "      <th></th>\n",
       "    </tr>\n",
       "  </thead>\n",
       "  <tbody>\n",
       "    <tr>\n",
       "      <th>3201</th>\n",
       "      <td>1.502778</td>\n",
       "      <td>Male</td>\n",
       "      <td>1</td>\n",
       "      <td>NaN</td>\n",
       "      <td>NaN</td>\n",
       "      <td>NaN</td>\n",
       "      <td>NaN</td>\n",
       "      <td>NaN</td>\n",
       "      <td>NaN</td>\n",
       "      <td>NaN</td>\n",
       "      <td>...</td>\n",
       "      <td>NaN</td>\n",
       "      <td>NaN</td>\n",
       "      <td>NaN</td>\n",
       "      <td>NaN</td>\n",
       "      <td>NaN</td>\n",
       "      <td>NaN</td>\n",
       "      <td>NaN</td>\n",
       "      <td>NaN</td>\n",
       "      <td>NaN</td>\n",
       "      <td>NaN</td>\n",
       "    </tr>\n",
       "    <tr>\n",
       "      <th>3202</th>\n",
       "      <td>3.744444</td>\n",
       "      <td>Male</td>\n",
       "      <td>1</td>\n",
       "      <td>179.16</td>\n",
       "      <td>49.11</td>\n",
       "      <td>1019.90</td>\n",
       "      <td>8.36</td>\n",
       "      <td>17.34</td>\n",
       "      <td>67.10</td>\n",
       "      <td>1.94</td>\n",
       "      <td>...</td>\n",
       "      <td>0.354108</td>\n",
       "      <td>1.503382</td>\n",
       "      <td>3.551466</td>\n",
       "      <td>3.437326</td>\n",
       "      <td>1.826528</td>\n",
       "      <td>3.063709</td>\n",
       "      <td>2.234289</td>\n",
       "      <td>0.557507</td>\n",
       "      <td>1.202216</td>\n",
       "      <td>0.206826</td>\n",
       "    </tr>\n",
       "    <tr>\n",
       "      <th>3203</th>\n",
       "      <td>13.052778</td>\n",
       "      <td>Female</td>\n",
       "      <td>0</td>\n",
       "      <td>NaN</td>\n",
       "      <td>NaN</td>\n",
       "      <td>NaN</td>\n",
       "      <td>NaN</td>\n",
       "      <td>NaN</td>\n",
       "      <td>NaN</td>\n",
       "      <td>NaN</td>\n",
       "      <td>...</td>\n",
       "      <td>NaN</td>\n",
       "      <td>NaN</td>\n",
       "      <td>NaN</td>\n",
       "      <td>NaN</td>\n",
       "      <td>NaN</td>\n",
       "      <td>NaN</td>\n",
       "      <td>NaN</td>\n",
       "      <td>NaN</td>\n",
       "      <td>NaN</td>\n",
       "      <td>NaN</td>\n",
       "    </tr>\n",
       "    <tr>\n",
       "      <th>3204</th>\n",
       "      <td>6.633333</td>\n",
       "      <td>Female</td>\n",
       "      <td>0</td>\n",
       "      <td>191.72</td>\n",
       "      <td>33.36</td>\n",
       "      <td>2038.28</td>\n",
       "      <td>7.36</td>\n",
       "      <td>0.13</td>\n",
       "      <td>0.45</td>\n",
       "      <td>2.53</td>\n",
       "      <td>...</td>\n",
       "      <td>-0.481486</td>\n",
       "      <td>-1.045757</td>\n",
       "      <td>2.353358</td>\n",
       "      <td>2.202815</td>\n",
       "      <td>0.823474</td>\n",
       "      <td>3.271265</td>\n",
       "      <td>0.925828</td>\n",
       "      <td>0.372912</td>\n",
       "      <td>0.691081</td>\n",
       "      <td>-0.275724</td>\n",
       "    </tr>\n",
       "    <tr>\n",
       "      <th>3205</th>\n",
       "      <td>1.158333</td>\n",
       "      <td>Female</td>\n",
       "      <td>1</td>\n",
       "      <td>NaN</td>\n",
       "      <td>NaN</td>\n",
       "      <td>NaN</td>\n",
       "      <td>NaN</td>\n",
       "      <td>NaN</td>\n",
       "      <td>NaN</td>\n",
       "      <td>NaN</td>\n",
       "      <td>...</td>\n",
       "      <td>NaN</td>\n",
       "      <td>NaN</td>\n",
       "      <td>NaN</td>\n",
       "      <td>NaN</td>\n",
       "      <td>NaN</td>\n",
       "      <td>NaN</td>\n",
       "      <td>NaN</td>\n",
       "      <td>NaN</td>\n",
       "      <td>NaN</td>\n",
       "      <td>NaN</td>\n",
       "    </tr>\n",
       "  </tbody>\n",
       "</table>\n",
       "<p>5 rows × 43 columns</p>\n",
       "</div>"
      ],
      "text/plain": [
       "            Age  Gender  Flu_positive  EGF_Plasma  FKN_Plasma  GRO_Plasma  \\\n",
       "ID                                                                          \n",
       "3201   1.502778    Male             1         NaN         NaN         NaN   \n",
       "3202   3.744444    Male             1      179.16       49.11     1019.90   \n",
       "3203  13.052778  Female             0         NaN         NaN         NaN   \n",
       "3204   6.633333  Female             0      191.72       33.36     2038.28   \n",
       "3205   1.158333  Female             1         NaN         NaN         NaN   \n",
       "\n",
       "      IFNγ_Plasma  IL1α_Plasma  IL2_Plasma  IL4_Plasma       ...         \\\n",
       "ID                                                           ...          \n",
       "3201          NaN          NaN         NaN         NaN       ...          \n",
       "3202         8.36        17.34       67.10        1.94       ...          \n",
       "3203          NaN          NaN         NaN         NaN       ...          \n",
       "3204         7.36         0.13        0.45        2.53       ...          \n",
       "3205          NaN          NaN         NaN         NaN       ...          \n",
       "\n",
       "      IL9_Plasma_log  IL10_Plasma_log  IP10_Plasma_log  MCP1_Plasma_log  \\\n",
       "ID                                                                        \n",
       "3201             NaN              NaN              NaN              NaN   \n",
       "3202        0.354108         1.503382         3.551466         3.437326   \n",
       "3203             NaN              NaN              NaN              NaN   \n",
       "3204       -0.481486        -1.045757         2.353358         2.202815   \n",
       "3205             NaN              NaN              NaN              NaN   \n",
       "\n",
       "      MCP3_Plasma_log  MDC_Plasma_log  MIP1α_Plasma_log  TGFα_Plasma_log  \\\n",
       "ID                                                                         \n",
       "3201              NaN             NaN               NaN              NaN   \n",
       "3202         1.826528        3.063709          2.234289         0.557507   \n",
       "3203              NaN             NaN               NaN              NaN   \n",
       "3204         0.823474        3.271265          0.925828         0.372912   \n",
       "3205              NaN             NaN               NaN              NaN   \n",
       "\n",
       "      TNFα_Plasma_log  TNFβ_Plasma_log  \n",
       "ID                                      \n",
       "3201              NaN              NaN  \n",
       "3202         1.202216         0.206826  \n",
       "3203              NaN              NaN  \n",
       "3204         0.691081        -0.275724  \n",
       "3205              NaN              NaN  \n",
       "\n",
       "[5 rows x 43 columns]"
      ]
     },
     "execution_count": 78,
     "metadata": {},
     "output_type": "execute_result"
    }
   ],
   "source": [
    "df['Flu_positive'] = df['Flu_positive'].map({True: 1, False: 0}) # map - only for series\n",
    "\n",
    "df.head()"
   ]
  },
  {
   "cell_type": "markdown",
   "metadata": {},
   "source": [
    "## <span style=\"color:green\">Applying complicated functions</span> <span style=\"color:#ff884d\">(instructor examples)</span>"
   ]
  },
  {
   "cell_type": "markdown",
   "metadata": {},
   "source": [
    "<b>22. Defining a function, and applying it over a column (or several columns)</b>"
   ]
  },
  {
   "cell_type": "code",
   "execution_count": null,
   "metadata": {},
   "outputs": [],
   "source": [
    "def inverse(num):\n",
    "    return 1/num"
   ]
  },
  {
   "cell_type": "code",
   "execution_count": null,
   "metadata": {},
   "outputs": [],
   "source": [
    "df['EGF_Plasma'].apply(inverse)"
   ]
  },
  {
   "cell_type": "code",
   "execution_count": null,
   "metadata": {},
   "outputs": [],
   "source": [
    "df['1/EGF'] = df['EGF_Plasma'].apply(inverse)"
   ]
  },
  {
   "cell_type": "code",
   "execution_count": null,
   "metadata": {},
   "outputs": [],
   "source": [
    "df[['EGF_Plasma', '1/EGF']].head()"
   ]
  },
  {
   "cell_type": "markdown",
   "metadata": {},
   "source": [
    "<b>23. Defining a function using lambda</b>"
   ]
  },
  {
   "cell_type": "code",
   "execution_count": null,
   "metadata": {},
   "outputs": [],
   "source": [
    "inverse_2 = lambda num: 1/num"
   ]
  },
  {
   "cell_type": "code",
   "execution_count": null,
   "metadata": {},
   "outputs": [],
   "source": [
    "print(inverse(3))\n",
    "print(inverse_2(3))"
   ]
  },
  {
   "cell_type": "code",
   "execution_count": null,
   "metadata": {},
   "outputs": [],
   "source": [
    "df['1/EGF_2'] = df['EGF_Plasma'].apply(lambda value: 1/value)"
   ]
  },
  {
   "cell_type": "code",
   "execution_count": null,
   "metadata": {},
   "outputs": [],
   "source": [
    "df[['EGF_Plasma', '1/EGF_2']].head()"
   ]
  },
  {
   "cell_type": "code",
   "execution_count": null,
   "metadata": {},
   "outputs": [],
   "source": [
    "def power(num, maarih=2):\n",
    "    return num**maarih\n",
    "\n",
    "power(3, maarih=3)"
   ]
  },
  {
   "cell_type": "code",
   "execution_count": null,
   "metadata": {},
   "outputs": [],
   "source": [
    "df['EGF_Plasma'].apply(power, maarih=3)"
   ]
  },
  {
   "cell_type": "markdown",
   "metadata": {},
   "source": [
    "<b>24. lambda with if-else </b>"
   ]
  },
  {
   "cell_type": "code",
   "execution_count": null,
   "metadata": {},
   "outputs": [],
   "source": [
    "# value = -20\n",
    "# if value > 50:\n",
    "#     print(50)\n",
    "# else:\n",
    "#     print(value)\n",
    "\n",
    "# 50 if value > 50 or value < -10 else value\n",
    "\n",
    "50 if value > 50 else\n",
    "\n",
    "50 if value > 50 else (-100 if value < -10 else value)"
   ]
  },
  {
   "cell_type": "code",
   "execution_count": null,
   "metadata": {},
   "outputs": [],
   "source": [
    "df['EGF_trimmed_50'] = df['EGF_Plasma'].apply(lambda value: 50 if value > 50 else value)\n",
    "\n",
    "df[['EGF_Plasma', 'EGF_trimmed_50']].head(10)"
   ]
  },
  {
   "cell_type": "markdown",
   "metadata": {},
   "source": [
    "<b>25. lambda with string operations </b>"
   ]
  },
  {
   "cell_type": "code",
   "execution_count": null,
   "metadata": {},
   "outputs": [],
   "source": [
    "df['Gender'].apply(lambda string: string[0].lower() + string[1:])"
   ]
  },
  {
   "cell_type": "markdown",
   "metadata": {},
   "source": [
    "<b>26. Apply a complicated function, that depends on different columns values</b>"
   ]
  },
  {
   "cell_type": "code",
   "execution_count": null,
   "metadata": {},
   "outputs": [],
   "source": [
    "df.head()"
   ]
  },
  {
   "cell_type": "code",
   "execution_count": null,
   "metadata": {},
   "outputs": [],
   "source": [
    "df.iloc[0]"
   ]
  },
  {
   "cell_type": "code",
   "execution_count": null,
   "metadata": {},
   "outputs": [],
   "source": [
    "def EGF_adjust_by_gender_age(row):\n",
    "    ''' Normally, dont forget writing docstrings! '''\n",
    "    \n",
    "    if row['Gender'] == 'Female':\n",
    "        result = row['EGF_Plasma'] / row['Age']\n",
    "    else:\n",
    "        result = (1 + row['EGF_Plasma']) / (0.7 * row['Age'])\n",
    "\n",
    "    return round(result, 4)\n",
    "\n",
    "df['EGF_adjusted'] = df.apply(EGF_adjust_by_gender_age, axis=1)\n",
    "\n",
    "df[['Gender', 'Age', 'EGF_Plasma', 'EGF_adjusted']].head()"
   ]
  },
  {
   "cell_type": "markdown",
   "metadata": {},
   "source": [
    "## Try it yourself..."
   ]
  },
  {
   "cell_type": "markdown",
   "metadata": {},
   "source": [
    "<b>27. Apply the np.sqrt() function over columns 'FKN_Plasma', 'GRO_Plasma' and 'IL2_Plasma'</b>"
   ]
  },
  {
   "cell_type": "code",
   "execution_count": null,
   "metadata": {},
   "outputs": [],
   "source": [
    "df[['FKN_Plasma', 'GRO_Plasma', 'IL2_Plasma']].apply(np.sqrt)"
   ]
  },
  {
   "cell_type": "markdown",
   "metadata": {},
   "source": [
    "<b>28. Write a new function that takes a single value x, and calculates: x*x/100. <br>\n",
    "    Apply it over the column 'MCP1_Plasma'.</b><br>\n",
    "    Solve this using a function defined with 'def', and then with 'lambda'!"
   ]
  },
  {
   "cell_type": "code",
   "execution_count": null,
   "metadata": {},
   "outputs": [],
   "source": [
    "def my_func(num):\n",
    "    return num*num/100\n",
    "\n",
    "df['MCP1_Plasma'].apply(my_func)"
   ]
  },
  {
   "cell_type": "code",
   "execution_count": null,
   "metadata": {},
   "outputs": [],
   "source": [
    "df['MCP1_Plasma'].apply(lambda num: num*num/100)"
   ]
  },
  {
   "cell_type": "markdown",
   "metadata": {},
   "source": [
    "## <span style=\"color:green\">Saving to file</span>"
   ]
  },
  {
   "cell_type": "markdown",
   "metadata": {},
   "source": [
    "<b>29. Save a dataframe to an excel / csv file</b>"
   ]
  },
  {
   "cell_type": "code",
   "execution_count": null,
   "metadata": {},
   "outputs": [],
   "source": [
    "df_log.to_csv(path + 'df_log_21_06_03.csv')\n",
    "\n",
    "df_log.to_excel(path + 'df_log_21_06_03.xlsx')"
   ]
  }
 ],
 "metadata": {
  "kernelspec": {
   "display_name": "Python 3",
   "language": "python",
   "name": "python3"
  },
  "language_info": {
   "codemirror_mode": {
    "name": "ipython",
    "version": 3
   },
   "file_extension": ".py",
   "mimetype": "text/x-python",
   "name": "python",
   "nbconvert_exporter": "python",
   "pygments_lexer": "ipython3",
   "version": "3.7.1"
  }
 },
 "nbformat": 4,
 "nbformat_minor": 2
}
